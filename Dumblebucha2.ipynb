{
 "cells": [
  {
   "cell_type": "code",
   "execution_count": null,
   "id": "oFP3s4BeA40q",
   "metadata": {
    "colab": {
     "base_uri": "https://localhost:8080/"
    },
    "id": "oFP3s4BeA40q",
    "outputId": "75b149b3-9ed0-4d5f-cf7e-e61b841ec477"
   },
   "outputs": [],
   "source": [
    "!pip install yfinance"
   ]
  },
  {
   "cell_type": "code",
   "execution_count": null,
   "id": "VJ0Be61O-exE",
   "metadata": {
    "colab": {
     "base_uri": "https://localhost:8080/"
    },
    "id": "VJ0Be61O-exE",
    "outputId": "55c6cce7-ef21-4224-85e9-49e47358844d"
   },
   "outputs": [],
   "source": [
    "pip install config"
   ]
  },
  {
   "cell_type": "code",
   "execution_count": null,
   "id": "Nya4xNft-ept",
   "metadata": {
    "colab": {
     "base_uri": "https://localhost:8080/"
    },
    "id": "Nya4xNft-ept",
    "outputId": "6f021776-a08c-48bf-d7ff-765a107ecde9"
   },
   "outputs": [],
   "source": [
    "pip install websocket-client"
   ]
  },
  {
   "cell_type": "code",
   "execution_count": null,
   "id": "rD5yQ5w1-eY9",
   "metadata": {
    "colab": {
     "base_uri": "https://localhost:8080/"
    },
    "id": "rD5yQ5w1-eY9",
    "outputId": "dfdf85ad-d9f1-4c4f-99a0-06877a69a66d"
   },
   "outputs": [],
   "source": [
    "!pip install alpaca-trade-api"
   ]
  },
  {
   "cell_type": "code",
   "execution_count": null,
   "id": "fddb1975-a2b0-4205-8220-e7047e0de65b",
   "metadata": {
    "id": "fddb1975-a2b0-4205-8220-e7047e0de65b"
   },
   "outputs": [],
   "source": [
    "# Imports\n",
    "import pandas as pd\n",
    "import numpy as np\n",
    "from pathlib import Path\n",
    "import hvplot.pandas\n",
    "import matplotlib.pyplot as plt\n",
    "from sklearn import svm\n",
    "from sklearn.preprocessing import StandardScaler\n",
    "from pandas.tseries.offsets import DateOffset\n",
    "from sklearn.metrics import classification_report\n",
    "import os\n",
    "from dotenv import load_dotenv\n",
    "import requests\n",
    "import json\n",
    "from getpass import getpass\n",
    "import alpaca_trade_api as alpacaapi\n",
    "import websocket\n",
    "import _thread\n",
    "import time\n",
    "import yfinance as yf\n",
    "from sklearn.linear_model import LogisticRegression"
   ]
  },
  {
   "cell_type": "code",
   "execution_count": null,
   "id": "6RAQK6-Y-k0b",
   "metadata": {
    "id": "6RAQK6-Y-k0b"
   },
   "outputs": [],
   "source": [
    "bitcoin = yf.Ticker(\"BTC-USD\")\n",
    "#current_btc = bitcoin.history(period='1d', interval=\"1m\")[['Close']]\n",
    "Bitcoin_df = bitcoin.history(start=\"2017-12-31\", end=\"2021-12-07\")"
   ]
  },
  {
   "cell_type": "code",
   "execution_count": null,
   "id": "IQmC2O0qFPOv",
   "metadata": {
    "id": "IQmC2O0qFPOv"
   },
   "outputs": [],
   "source": [
    "ethereum = yf.Ticker(\"ETH-USD\")\n",
    "#current_btc = bitcoin.history(period='1d', interval=\"1m\")[['Close']]\n",
    "Ethereum_df = ethereum.history(start=\"2017-12-31\", end=\"2021-12-07\")"
   ]
  },
  {
   "cell_type": "code",
   "execution_count": null,
   "id": "f3L5lJJwFbiu",
   "metadata": {
    "id": "f3L5lJJwFbiu"
   },
   "outputs": [],
   "source": [
    "litecoin = yf.Ticker(\"LTC-USD\")\n",
    "#current_btc = bitcoin.history(period='1d', interval=\"1m\")[['Close']]\n",
    "LiteCoin_df = litecoin.history(start=\"2017-12-31\", end=\"2021-12-07\")"
   ]
  },
  {
   "cell_type": "code",
   "execution_count": null,
   "id": "kXTRpb4bFl75",
   "metadata": {
    "id": "kXTRpb4bFl75"
   },
   "outputs": [],
   "source": [
    "bitcoincash = yf.Ticker(\"BCH-USD\")\n",
    "BitcoinCash_df = bitcoincash.history(start=\"2017-12-31\", end=\"2021-12-07\")"
   ]
  },
  {
   "cell_type": "code",
   "execution_count": null,
   "id": "y_ji6vF3GK4w",
   "metadata": {
    "colab": {
     "base_uri": "https://localhost:8080/",
     "height": 237
    },
    "id": "y_ji6vF3GK4w",
    "outputId": "1630c67f-d2d6-48f0-bcfa-8c9f36d68f67"
   },
   "outputs": [],
   "source": [
    "BitcoinCash_df.head()"
   ]
  },
  {
   "cell_type": "code",
   "execution_count": null,
   "id": "c20f71a0-941d-44d4-8194-bc3cc49fb14a",
   "metadata": {
    "colab": {
     "base_uri": "https://localhost:8080/",
     "height": 899
    },
    "id": "c20f71a0-941d-44d4-8194-bc3cc49fb14a",
    "outputId": "3e2d8d74-98fe-4665-996b-3a275ada7a04"
   },
   "outputs": [],
   "source": [
    "# separate into individual dataframes\n",
    "\n",
    "btc_signals_df=Bitcoin_df.loc[:, [\"Close\"]]\n",
    "eth_signals_df=Ethereum_df.loc[:, [\"Close\"]]\n",
    "ltc_signals_df=LiteCoin_df.loc[:, [\"Close\"]]\n",
    "bch_signals_df=BitcoinCash_df.loc[:,[\"Close\"]]\n",
    "\n",
    "display(btc_signals_df.tail())\n",
    "display(eth_signals_df.head())\n",
    "display(ltc_signals_df.head())\n",
    "display(bch_signals_df.head())"
   ]
  },
  {
   "cell_type": "code",
   "execution_count": null,
   "id": "ac76de3d-1612-441b-ab0a-a7ce2ed5ee76",
   "metadata": {
    "colab": {
     "base_uri": "https://localhost:8080/",
     "height": 899
    },
    "id": "ac76de3d-1612-441b-ab0a-a7ce2ed5ee76",
    "outputId": "ffe4e004-e550-4460-9f6a-102825336f80"
   },
   "outputs": [],
   "source": [
    "# use pct_change function to get actual returns and dropna\n",
    "\n",
    "btc_signals_df[\"Actual Returns\"]=btc_signals_df[\"Close\"].pct_change()\n",
    "eth_signals_df[\"Actual Returns\"]=eth_signals_df[\"Close\"].pct_change()\n",
    "ltc_signals_df[\"Actual Returns\"]=ltc_signals_df[\"Close\"].pct_change()\n",
    "bch_signals_df[\"Actual Returns\"]=bch_signals_df[\"Close\"].pct_change()\n",
    "\n",
    "btc_signals_df=btc_signals_df.dropna()\n",
    "eth_signals_df=eth_signals_df.dropna()\n",
    "ltc_signals_df=ltc_signals_df.dropna()\n",
    "bch_signals_df=bch_signals_df.dropna()\n",
    "\n",
    "display(btc_signals_df.head())\n",
    "display(eth_signals_df.head())\n",
    "display(ltc_signals_df.head())\n",
    "display(bch_signals_df.head())"
   ]
  },
  {
   "cell_type": "code",
   "execution_count": null,
   "id": "9b12680d-89aa-4f04-90f2-cefde3a1d8f4",
   "metadata": {
    "id": "9b12680d-89aa-4f04-90f2-cefde3a1d8f4"
   },
   "outputs": [],
   "source": [
    "# Set the short window and long window\n",
    "short_window = 30\n",
    "long_window = 120\n",
    "\n",
    "# Generate the fast and slow simple moving averages \n",
    "\n",
    "btc_signals_df['SMA_Fast']=btc_signals_df['Close'].rolling(window=short_window).mean()\n",
    "btc_signals_df['SMA_Slow']=btc_signals_df['Close'].rolling(window=long_window).mean()"
   ]
  },
  {
   "cell_type": "code",
   "execution_count": null,
   "id": "9939597c-f7da-4b87-8b1e-70ec0c24f93f",
   "metadata": {
    "id": "9939597c-f7da-4b87-8b1e-70ec0c24f93f"
   },
   "outputs": [],
   "source": [
    "short_window = 30\n",
    "long_window = 90\n",
    "\n",
    "eth_signals_df['SMA_Fast']=eth_signals_df['Close'].rolling(window=short_window).mean()\n",
    "eth_signals_df['SMA_Slow']=eth_signals_df['Close'].rolling(window=long_window).mean()"
   ]
  },
  {
   "cell_type": "code",
   "execution_count": null,
   "id": "ba9d0cae-7a3d-43d5-a5e0-a319e5743ef0",
   "metadata": {
    "id": "ba9d0cae-7a3d-43d5-a5e0-a319e5743ef0"
   },
   "outputs": [],
   "source": [
    "short_window = 30\n",
    "long_window = 90\n",
    "\n",
    "ltc_signals_df['SMA_Fast']=ltc_signals_df['Close'].rolling(window=short_window).mean()\n",
    "ltc_signals_df['SMA_Slow']=ltc_signals_df['Close'].rolling(window=long_window).mean()"
   ]
  },
  {
   "cell_type": "code",
   "execution_count": null,
   "id": "877ddebc-1be8-4729-bff6-28d81347e839",
   "metadata": {
    "id": "877ddebc-1be8-4729-bff6-28d81347e839"
   },
   "outputs": [],
   "source": [
    "short_window = 30\n",
    "long_window = 90\n",
    "\n",
    "bch_signals_df['SMA_Fast']=bch_signals_df['Close'].rolling(window=short_window).mean()\n",
    "bch_signals_df['SMA_Slow']=bch_signals_df['Close'].rolling(window=long_window).mean()"
   ]
  },
  {
   "cell_type": "code",
   "execution_count": null,
   "id": "784db76c-1b83-4159-b11e-0e76b667f056",
   "metadata": {
    "colab": {
     "base_uri": "https://localhost:8080/",
     "height": 899
    },
    "id": "784db76c-1b83-4159-b11e-0e76b667f056",
    "outputId": "cf4801c0-7a17-470f-f56c-141ba29fa39b"
   },
   "outputs": [],
   "source": [
    "#check your work\n",
    "display(btc_signals_df.head())\n",
    "display(eth_signals_df.head())\n",
    "display(ltc_signals_df.head())\n",
    "display(bch_signals_df.head())"
   ]
  },
  {
   "cell_type": "code",
   "execution_count": null,
   "id": "bc9ac0e3-7765-46e0-a713-8120885b14ac",
   "metadata": {
    "id": "bc9ac0e3-7765-46e0-a713-8120885b14ac"
   },
   "outputs": [],
   "source": [
    "# add the  Signal column\n",
    "btc_signals_df['Signal']=0.0\n",
    "\n",
    "# When Actual Returns are greater than or equal to 0, generate signal to buy stock \n",
    "\n",
    "btc_signals_df.loc[(btc_signals_df['Actual Returns'] >= 0), 'Signal'] = 1\n",
    "\n",
    "# When Actual Returns are less than 0, generate signal to sell stock\n",
    "\n",
    "btc_signals_df.loc[(btc_signals_df['Actual Returns'] < 0), 'Signal'] = -1"
   ]
  },
  {
   "cell_type": "code",
   "execution_count": null,
   "id": "6c7f4a1e-d830-4fcb-a370-999e2205ebea",
   "metadata": {
    "id": "6c7f4a1e-d830-4fcb-a370-999e2205ebea"
   },
   "outputs": [],
   "source": [
    "eth_signals_df['Signal']=0.0\n",
    "eth_signals_df.loc[(eth_signals_df['Actual Returns'] >= 0), 'Signal'] = 1\n",
    "eth_signals_df.loc[(eth_signals_df['Actual Returns'] < 0), 'Signal'] = -1"
   ]
  },
  {
   "cell_type": "code",
   "execution_count": null,
   "id": "f041bb15-6307-43f3-abb2-e07d8df8f50c",
   "metadata": {
    "id": "f041bb15-6307-43f3-abb2-e07d8df8f50c"
   },
   "outputs": [],
   "source": [
    "ltc_signals_df['Signal']=0.0\n",
    "ltc_signals_df.loc[(ltc_signals_df['Actual Returns'] >= 0), 'Signal'] = 1\n",
    "ltc_signals_df.loc[(ltc_signals_df['Actual Returns'] < 0), 'Signal'] = -1"
   ]
  },
  {
   "cell_type": "code",
   "execution_count": null,
   "id": "b3835eb1-6bad-4b6b-a357-b87364ee54b2",
   "metadata": {
    "id": "b3835eb1-6bad-4b6b-a357-b87364ee54b2"
   },
   "outputs": [],
   "source": [
    "bch_signals_df['Signal']=0.0\n",
    "bch_signals_df.loc[(bch_signals_df['Actual Returns'] >= 0), 'Signal'] = 1\n",
    "bch_signals_df.loc[(bch_signals_df['Actual Returns'] < 0), 'Signal'] = -1"
   ]
  },
  {
   "cell_type": "code",
   "execution_count": null,
   "id": "ccdabb50-13df-4a63-9cd5-1630a1dc17c3",
   "metadata": {
    "colab": {
     "base_uri": "https://localhost:8080/",
     "height": 1000
    },
    "id": "ccdabb50-13df-4a63-9cd5-1630a1dc17c3",
    "outputId": "4646fb02-b73d-4da8-f8b0-f6b39d73d15d"
   },
   "outputs": [],
   "source": [
    "# check your work\n",
    "display(btc_signals_df.head())\n",
    "display(eth_signals_df.head())\n",
    "display(ltc_signals_df.head())\n",
    "display(bch_signals_df.head())\n",
    "\n",
    "display(btc_signals_df.tail())\n",
    "display(eth_signals_df.tail())\n",
    "display(ltc_signals_df.tail())\n",
    "display(bch_signals_df.tail())"
   ]
  },
  {
   "cell_type": "code",
   "execution_count": null,
   "id": "81cfc87c-efca-4fed-ae00-16676e232458",
   "metadata": {
    "id": "81cfc87c-efca-4fed-ae00-16676e232458"
   },
   "outputs": [],
   "source": [
    "# Add Strategy Returns column\n",
    "btc_signals_df['Strategy Returns'] = btc_signals_df['Actual Returns'] * btc_signals_df['Signal'].shift()"
   ]
  },
  {
   "cell_type": "code",
   "execution_count": null,
   "id": "1a888af0-4122-4930-9714-e0e8519793a3",
   "metadata": {
    "id": "1a888af0-4122-4930-9714-e0e8519793a3"
   },
   "outputs": [],
   "source": [
    "eth_signals_df['Strategy Returns'] = eth_signals_df['Actual Returns'] * eth_signals_df['Signal'].shift()"
   ]
  },
  {
   "cell_type": "code",
   "execution_count": null,
   "id": "c68ef73c-e8c1-45f6-8a12-47b4504769e8",
   "metadata": {
    "id": "c68ef73c-e8c1-45f6-8a12-47b4504769e8"
   },
   "outputs": [],
   "source": [
    "ltc_signals_df['Strategy Returns'] = ltc_signals_df['Actual Returns'] * ltc_signals_df['Signal'].shift()"
   ]
  },
  {
   "cell_type": "code",
   "execution_count": null,
   "id": "6230e74b-33dc-4d26-b8da-f2953ec46723",
   "metadata": {
    "id": "6230e74b-33dc-4d26-b8da-f2953ec46723"
   },
   "outputs": [],
   "source": [
    "bch_signals_df['Strategy Returns'] = bch_signals_df['Actual Returns'] * bch_signals_df['Signal'].shift()"
   ]
  },
  {
   "cell_type": "code",
   "execution_count": null,
   "id": "6556c8a5-14b1-4123-bd98-dd57d30d8993",
   "metadata": {
    "colab": {
     "base_uri": "https://localhost:8080/",
     "height": 1000
    },
    "id": "6556c8a5-14b1-4123-bd98-dd57d30d8993",
    "outputId": "4fd2563b-05a8-444a-ebb8-af7b0490b4aa"
   },
   "outputs": [],
   "source": [
    "# check your work\n",
    "display(btc_signals_df.head())\n",
    "display(eth_signals_df.head())\n",
    "display(ltc_signals_df.head())\n",
    "display(bch_signals_df.head())\n",
    "\n",
    "display(btc_signals_df.tail())\n",
    "display(eth_signals_df.tail())\n",
    "display(ltc_signals_df.tail())\n",
    "display(bch_signals_df.tail())"
   ]
  },
  {
   "cell_type": "code",
   "execution_count": null,
   "id": "5e40ba3d-6739-492b-89b2-aecfef260994",
   "metadata": {
    "id": "5e40ba3d-6739-492b-89b2-aecfef260994"
   },
   "outputs": [],
   "source": [
    "# create X and y variables\n",
    "btc_X = btc_signals_df[['SMA_Fast', 'SMA_Slow']].shift().dropna()\n",
    "btc_y = btc_signals_df['Signal']"
   ]
  },
  {
   "cell_type": "code",
   "execution_count": null,
   "id": "9d4b3175-df54-4674-ab21-ff6d033ce869",
   "metadata": {
    "id": "9d4b3175-df54-4674-ab21-ff6d033ce869"
   },
   "outputs": [],
   "source": [
    "eth_X = eth_signals_df[['SMA_Fast', 'SMA_Slow']].shift().dropna()\n",
    "eth_y = eth_signals_df['Signal']"
   ]
  },
  {
   "cell_type": "code",
   "execution_count": null,
   "id": "c582f9ed-5492-4bab-afa0-cb2470d53136",
   "metadata": {
    "id": "c582f9ed-5492-4bab-afa0-cb2470d53136"
   },
   "outputs": [],
   "source": [
    "ltc_X = ltc_signals_df[['SMA_Fast', 'SMA_Slow']].shift().dropna()\n",
    "ltc_y = ltc_signals_df['Signal']"
   ]
  },
  {
   "cell_type": "code",
   "execution_count": null,
   "id": "3cb0107c-0cc3-491b-9446-16a9519426ec",
   "metadata": {
    "id": "3cb0107c-0cc3-491b-9446-16a9519426ec"
   },
   "outputs": [],
   "source": [
    "bch_X = bch_signals_df[['SMA_Fast', 'SMA_Slow']].shift().dropna()\n",
    "bch_y = bch_signals_df['Signal']"
   ]
  },
  {
   "cell_type": "code",
   "execution_count": null,
   "id": "077d963b-00f7-4428-b9d7-2d41428da23c",
   "metadata": {
    "id": "077d963b-00f7-4428-b9d7-2d41428da23c"
   },
   "outputs": [],
   "source": [
    "# set training start and end times\n",
    "btc_training_begin = btc_X.index.min()\n",
    "btc_training_end = btc_X.index.min() + DateOffset(months=8)"
   ]
  },
  {
   "cell_type": "code",
   "execution_count": null,
   "id": "f17d39b2-2209-4cc0-9a5c-12b0738239da",
   "metadata": {
    "id": "f17d39b2-2209-4cc0-9a5c-12b0738239da"
   },
   "outputs": [],
   "source": [
    "eth_training_begin = eth_X.index.min()\n",
    "eth_training_end = eth_X.index.min() + DateOffset(months=8)"
   ]
  },
  {
   "cell_type": "code",
   "execution_count": null,
   "id": "0faba442-e524-4eeb-80b9-8f41107d1ed5",
   "metadata": {
    "id": "0faba442-e524-4eeb-80b9-8f41107d1ed5"
   },
   "outputs": [],
   "source": [
    "ltc_training_begin = ltc_X.index.min()\n",
    "ltc_training_end = ltc_X.index.min() + DateOffset(months=8)"
   ]
  },
  {
   "cell_type": "code",
   "execution_count": null,
   "id": "a1564072-5eda-4878-9561-3b3d227349c0",
   "metadata": {
    "id": "a1564072-5eda-4878-9561-3b3d227349c0"
   },
   "outputs": [],
   "source": [
    "bch_training_begin = bch_X.index.min()\n",
    "bch_training_end = bch_X.index.min() + DateOffset(months=8)"
   ]
  },
  {
   "cell_type": "code",
   "execution_count": null,
   "id": "4d3638a1-1eeb-4b63-8180-addaebb265ee",
   "metadata": {
    "id": "4d3638a1-1eeb-4b63-8180-addaebb265ee"
   },
   "outputs": [],
   "source": [
    "# create train and test variables\n",
    "btc_X_train = btc_X.loc[btc_training_begin:btc_training_end]\n",
    "btc_y_train = btc_y.loc[btc_training_begin:btc_training_end]\n",
    "\n",
    "btc_X_test = btc_X.loc[btc_training_end+DateOffset(hours=1):]\n",
    "btc_y_test = btc_y.loc[btc_training_end+DateOffset(hours=1):]"
   ]
  },
  {
   "cell_type": "code",
   "execution_count": null,
   "id": "b26130ea-9e4c-4d69-8b12-10233202f98d",
   "metadata": {
    "id": "b26130ea-9e4c-4d69-8b12-10233202f98d"
   },
   "outputs": [],
   "source": [
    "eth_X_train = eth_X.loc[eth_training_begin:eth_training_end]\n",
    "eth_y_train = eth_y.loc[eth_training_begin:eth_training_end]\n",
    "\n",
    "eth_X_test = eth_X.loc[eth_training_end+DateOffset(hours=1):]\n",
    "eth_y_test = eth_y.loc[eth_training_end+DateOffset(hours=1):]"
   ]
  },
  {
   "cell_type": "code",
   "execution_count": null,
   "id": "06818530-28cd-4368-8a1e-67aa26bd7ad7",
   "metadata": {
    "id": "06818530-28cd-4368-8a1e-67aa26bd7ad7"
   },
   "outputs": [],
   "source": [
    "ltc_X_train = ltc_X.loc[ltc_training_begin:ltc_training_end]\n",
    "ltc_y_train = ltc_y.loc[ltc_training_begin:ltc_training_end]\n",
    "\n",
    "ltc_X_test = ltc_X.loc[ltc_training_end+DateOffset(hours=1):]\n",
    "ltc_y_test = ltc_y.loc[ltc_training_end+DateOffset(hours=1):]"
   ]
  },
  {
   "cell_type": "code",
   "execution_count": null,
   "id": "35064583-d975-4c3d-95fd-65c2904de8a9",
   "metadata": {
    "id": "35064583-d975-4c3d-95fd-65c2904de8a9"
   },
   "outputs": [],
   "source": [
    "bch_X_train = bch_X.loc[bch_training_begin:bch_training_end]\n",
    "bch_y_train = bch_y.loc[bch_training_begin:bch_training_end]\n",
    "\n",
    "bch_X_test = bch_X.loc[bch_training_end+DateOffset(hours=1):]\n",
    "bch_y_test = bch_y.loc[bch_training_end+DateOffset(hours=1):]"
   ]
  },
  {
   "cell_type": "code",
   "execution_count": null,
   "id": "89694ad6-f216-4a15-bf1a-ea4a3c73ecd8",
   "metadata": {
    "id": "89694ad6-f216-4a15-bf1a-ea4a3c73ecd8"
   },
   "outputs": [],
   "source": [
    "# scale the features\n",
    "btc_scaler = StandardScaler()\n",
    "btc_X_scaler = btc_scaler.fit(btc_X_train)\n",
    "btc_X_train_scaled = btc_X_scaler.transform(btc_X_train)\n",
    "btc_X_test_scaled = btc_X_scaler.transform(btc_X_test)"
   ]
  },
  {
   "cell_type": "code",
   "execution_count": null,
   "id": "073463aa-47f2-4e2e-a03b-d69ef6e7875b",
   "metadata": {
    "id": "073463aa-47f2-4e2e-a03b-d69ef6e7875b"
   },
   "outputs": [],
   "source": [
    "eth_scaler = StandardScaler()\n",
    "eth_X_scaler = eth_scaler.fit(eth_X_train)\n",
    "eth_X_train_scaled = eth_X_scaler.transform(eth_X_train)\n",
    "eth_X_test_scaled = eth_X_scaler.transform(eth_X_test)"
   ]
  },
  {
   "cell_type": "code",
   "execution_count": null,
   "id": "cc1f1cd5-142e-4110-a580-a9a5eccd3704",
   "metadata": {
    "id": "cc1f1cd5-142e-4110-a580-a9a5eccd3704"
   },
   "outputs": [],
   "source": [
    "ltc_scaler = StandardScaler()\n",
    "ltc_X_scaler = ltc_scaler.fit(ltc_X_train)\n",
    "ltc_X_train_scaled = ltc_X_scaler.transform(ltc_X_train)\n",
    "ltc_X_test_scaled = ltc_X_scaler.transform(ltc_X_test)"
   ]
  },
  {
   "cell_type": "code",
   "execution_count": null,
   "id": "42cbddaa-cb62-4e5a-8ee6-86ed3607d5ca",
   "metadata": {
    "id": "42cbddaa-cb62-4e5a-8ee6-86ed3607d5ca"
   },
   "outputs": [],
   "source": [
    "bch_scaler = StandardScaler()\n",
    "bch_X_scaler = bch_scaler.fit(bch_X_train)\n",
    "bch_X_train_scaled = bch_X_scaler.transform(bch_X_train)\n",
    "bch_X_test_scaled = bch_X_scaler.transform(bch_X_test)"
   ]
  },
  {
   "cell_type": "code",
   "execution_count": null,
   "id": "12f3b1e8-b4db-47dc-8fb5-4204fa863d12",
   "metadata": {
    "colab": {
     "base_uri": "https://localhost:8080/"
    },
    "id": "12f3b1e8-b4db-47dc-8fb5-4204fa863d12",
    "outputId": "3172bc5a-56c5-43ae-8ac5-6107cb0e5b64"
   },
   "outputs": [],
   "source": [
    "# use SKLearn SVC classifier to fit and predict\n",
    "btc_model = LogisticRegression()\n",
    "btc_model = btc_model.fit(btc_X_train_scaled, btc_y_train)\n",
    "btc_pred = btc_model.predict(btc_X_test_scaled)\n",
    "btc_pred"
   ]
  },
  {
   "cell_type": "code",
   "execution_count": null,
   "id": "RRjIa92uPHTh",
   "metadata": {
    "colab": {
     "base_uri": "https://localhost:8080/"
    },
    "id": "RRjIa92uPHTh",
    "outputId": "a0f095e3-960d-495d-b648-da50a66c5d8d"
   },
   "outputs": [],
   "source": [
    "eth_model = LogisticRegression()\n",
    "eth_model = eth_model.fit(eth_X_train_scaled, eth_y_train)\n",
    "eth_pred = eth_model.predict(eth_X_test_scaled)\n",
    "eth_pred"
   ]
  },
  {
   "cell_type": "code",
   "execution_count": null,
   "id": "omF56u1iPHc2",
   "metadata": {
    "colab": {
     "base_uri": "https://localhost:8080/"
    },
    "id": "omF56u1iPHc2",
    "outputId": "06826a29-95ec-4e66-b9f1-e2f168a02eb7"
   },
   "outputs": [],
   "source": [
    "ltc_model = LogisticRegression()\n",
    "ltc_model = ltc_model.fit(ltc_X_train_scaled, ltc_y_train)\n",
    "ltc_pred = ltc_model.predict(ltc_X_test_scaled)\n",
    "ltc_pred"
   ]
  },
  {
   "cell_type": "code",
   "execution_count": null,
   "id": "6jYpxTlSPHrs",
   "metadata": {
    "colab": {
     "base_uri": "https://localhost:8080/"
    },
    "id": "6jYpxTlSPHrs",
    "outputId": "9a8e2544-3651-4eb6-a3d5-d790407d7702"
   },
   "outputs": [],
   "source": [
    "bch_model = LogisticRegression()\n",
    "bch_model = bch_model.fit(bch_X_train_scaled, bch_y_train)\n",
    "bch_pred = bch_model.predict(bch_X_test_scaled)\n",
    "bch_pred"
   ]
  },
  {
   "cell_type": "code",
   "execution_count": null,
   "id": "r6oEuPA2l27c",
   "metadata": {
    "colab": {
     "base_uri": "https://localhost:8080/"
    },
    "id": "r6oEuPA2l27c",
    "outputId": "41c4335b-0feb-4f3f-8836-b9ac02d695a5"
   },
   "outputs": [],
   "source": [
    "# review the classification report\n",
    "btc_testing_report = classification_report(btc_y_test, btc_pred)\n",
    "print(btc_testing_report)"
   ]
  },
  {
   "cell_type": "code",
   "execution_count": null,
   "id": "RllctAixl3Go",
   "metadata": {
    "colab": {
     "base_uri": "https://localhost:8080/"
    },
    "id": "RllctAixl3Go",
    "outputId": "ea03a06c-f940-4e1a-ee53-5775298c6e71"
   },
   "outputs": [],
   "source": [
    "eth_testing_report = classification_report(eth_y_test, eth_pred)\n",
    "print(eth_testing_report)"
   ]
  },
  {
   "cell_type": "code",
   "execution_count": null,
   "id": "yhhSpQMpl3QP",
   "metadata": {
    "colab": {
     "base_uri": "https://localhost:8080/"
    },
    "id": "yhhSpQMpl3QP",
    "outputId": "6882dded-1057-48f0-af14-96795846b2a6"
   },
   "outputs": [],
   "source": [
    "ltc_testing_report = classification_report(ltc_y_test, ltc_pred)\n",
    "print(ltc_testing_report)"
   ]
  },
  {
   "cell_type": "code",
   "execution_count": null,
   "id": "PevSQGLUl3Z4",
   "metadata": {
    "colab": {
     "base_uri": "https://localhost:8080/"
    },
    "id": "PevSQGLUl3Z4",
    "outputId": "0afee3f6-8ce0-44a8-a5af-f48576890e86"
   },
   "outputs": [],
   "source": [
    "bch_testing_report = classification_report(bch_y_test, bch_pred)\n",
    "print(bch_testing_report)"
   ]
  },
  {
   "cell_type": "code",
   "execution_count": null,
   "id": "v5BCdHQfmn8c",
   "metadata": {
    "colab": {
     "base_uri": "https://localhost:8080/",
     "height": 455
    },
    "id": "v5BCdHQfmn8c",
    "outputId": "0246fea8-f055-4984-a74a-4d8492f79c4a"
   },
   "outputs": [],
   "source": [
    "# Create a new data frame to compare Actual Returns and Strategy Returns\n",
    "btc_predictions_df = pd.DataFrame(index=btc_X_test.index)\n",
    "btc_predictions_df['Predicted'] = btc_pred\n",
    "btc_predictions_df['Actual Returns'] = btc_signals_df['Actual Returns']\n",
    "btc_predictions_df['Strategy Returns'] = (\n",
    "    btc_predictions_df['Actual Returns'] * btc_predictions_df['Predicted'])\n",
    "display(btc_predictions_df.tail(100))"
   ]
  },
  {
   "cell_type": "code",
   "execution_count": null,
   "id": "cBFblyxKJ_zs",
   "metadata": {
    "colab": {
     "base_uri": "https://localhost:8080/",
     "height": 295
    },
    "id": "cBFblyxKJ_zs",
    "outputId": "63a100c4-17b5-432c-9315-a52ae3bf4ada"
   },
   "outputs": [],
   "source": [
    "btc_predictions_df[\"Predicted\"].plot()"
   ]
  },
  {
   "cell_type": "code",
   "execution_count": null,
   "id": "BY8RHOpPmoEw",
   "metadata": {
    "colab": {
     "base_uri": "https://localhost:8080/",
     "height": 458
    },
    "id": "BY8RHOpPmoEw",
    "outputId": "7039ebe9-fdf6-44b0-dcc7-de3eafce5e05"
   },
   "outputs": [],
   "source": [
    "eth_predictions_df = pd.DataFrame(index=eth_X_test.index)\n",
    "eth_predictions_df['Predicted'] = eth_pred\n",
    "eth_predictions_df['Actual Returns'] = eth_signals_df['Actual Returns']\n",
    "eth_predictions_df['Strategy Returns'] = (\n",
    "    eth_predictions_df['Actual Returns'] * eth_predictions_df['Predicted'])\n",
    "display(eth_predictions_df.head())\n",
    "display(eth_predictions_df.tail())"
   ]
  },
  {
   "cell_type": "code",
   "execution_count": null,
   "id": "C8lXDl7GmoMR",
   "metadata": {
    "colab": {
     "base_uri": "https://localhost:8080/",
     "height": 458
    },
    "id": "C8lXDl7GmoMR",
    "outputId": "1216f192-6e43-4132-f70c-71d7f4140489"
   },
   "outputs": [],
   "source": [
    "ltc_predictions_df = pd.DataFrame(index=ltc_X_test.index)\n",
    "ltc_predictions_df['Predicted'] = ltc_pred\n",
    "ltc_predictions_df['Actual Returns'] = ltc_signals_df['Actual Returns']\n",
    "ltc_predictions_df['Strategy Returns'] = (\n",
    "    ltc_predictions_df['Actual Returns'] * ltc_predictions_df['Predicted'])\n",
    "display(ltc_predictions_df.head())\n",
    "display(ltc_predictions_df.tail())"
   ]
  },
  {
   "cell_type": "code",
   "execution_count": null,
   "id": "uzTE_kjCmoUq",
   "metadata": {
    "colab": {
     "base_uri": "https://localhost:8080/",
     "height": 458
    },
    "id": "uzTE_kjCmoUq",
    "outputId": "4ffba975-8146-4a9c-ae0d-ee4c8e7e7d8e"
   },
   "outputs": [],
   "source": [
    "bch_predictions_df = pd.DataFrame(index=bch_X_test.index)\n",
    "bch_predictions_df['Predicted'] = bch_pred\n",
    "bch_predictions_df['Actual Returns'] = bch_signals_df['Actual Returns']\n",
    "bch_predictions_df['Strategy Returns'] = (\n",
    "    bch_predictions_df['Actual Returns'] * bch_predictions_df['Predicted'])\n",
    "display(bch_predictions_df.head())\n",
    "display(bch_predictions_df.tail())"
   ]
  },
  {
   "cell_type": "code",
   "execution_count": null,
   "id": "aY4FF0V8oBnh",
   "metadata": {
    "colab": {
     "base_uri": "https://localhost:8080/",
     "height": 311
    },
    "id": "aY4FF0V8oBnh",
    "outputId": "810e3d0b-bfc7-4586-de3e-9519e5922b45"
   },
   "outputs": [],
   "source": [
    "# Plot the actual vs strategy returns\n",
    "btc_plot=(1+ btc_predictions_df[['Actual Returns', 'Strategy Returns']]).cumprod().plot(\n",
    "title='Actual Returns vs Strategy Returns - Bitcoin')\n",
    "\n",
    "btc_plot"
   ]
  },
  {
   "cell_type": "code",
   "execution_count": null,
   "id": "4MXlzaDzoBvh",
   "metadata": {
    "colab": {
     "base_uri": "https://localhost:8080/",
     "height": 311
    },
    "id": "4MXlzaDzoBvh",
    "outputId": "d987e611-f52a-48f9-e185-e218795e6719"
   },
   "outputs": [],
   "source": [
    "eth_plot=(1+ eth_predictions_df[['Actual Returns', 'Strategy Returns']]).cumprod().plot(\n",
    "title='Actual Returns vs Strategy Returns - Ethereum')\n",
    "\n",
    "eth_plot"
   ]
  },
  {
   "cell_type": "code",
   "execution_count": null,
   "id": "L7eukLV-oB35",
   "metadata": {
    "colab": {
     "base_uri": "https://localhost:8080/",
     "height": 311
    },
    "id": "L7eukLV-oB35",
    "outputId": "5f2171e8-4412-4b73-8fce-d9a711bce5f6"
   },
   "outputs": [],
   "source": [
    "ltc_plot=(1+ ltc_predictions_df[['Actual Returns', 'Strategy Returns']]).cumprod().plot(\n",
    "title='Actual Returns vs Strategy Returns - Litecoin')\n",
    "\n",
    "ltc_plot"
   ]
  },
  {
   "cell_type": "code",
   "execution_count": null,
   "id": "0G2FElOEoCAN",
   "metadata": {
    "colab": {
     "base_uri": "https://localhost:8080/",
     "height": 311
    },
    "id": "0G2FElOEoCAN",
    "outputId": "b4d4b28d-a361-4bed-e4ab-db8ded7f291f"
   },
   "outputs": [],
   "source": [
    "bch_plot=(1+ bch_predictions_df[['Actual Returns', 'Strategy Returns']]).cumprod().plot(\n",
    "title='Actual Returns vs Strategy Returns - BitcoinCash')\n",
    "bch_plot"
   ]
  },
  {
   "cell_type": "code",
   "execution_count": null,
   "id": "GxqyqQeaT84D",
   "metadata": {
    "id": "GxqyqQeaT84D"
   },
   "outputs": [],
   "source": [
    "# add entry/exit points to dataframe\n",
    "btc_predictions_df[\"Entry/Exit\"] = btc_predictions_df[\"Predicted\"].diff()\n"
   ]
  },
  {
   "cell_type": "code",
   "execution_count": null,
   "id": "TFVz5Lh5T9ri",
   "metadata": {
    "id": "TFVz5Lh5T9ri"
   },
   "outputs": [],
   "source": [
    "eth_predictions_df[\"Entry/Exit\"] = eth_predictions_df[\"Predicted\"].diff()\n"
   ]
  },
  {
   "cell_type": "code",
   "execution_count": null,
   "id": "RwUFwWtFT92f",
   "metadata": {
    "id": "RwUFwWtFT92f"
   },
   "outputs": [],
   "source": [
    "ltc_predictions_df[\"Entry/Exit\"] = ltc_predictions_df[\"Predicted\"].diff()\n"
   ]
  },
  {
   "cell_type": "code",
   "execution_count": null,
   "id": "bqKbGaN9T-Dh",
   "metadata": {
    "id": "bqKbGaN9T-Dh"
   },
   "outputs": [],
   "source": [
    "bch_predictions_df[\"Entry/Exit\"] = bch_predictions_df[\"Predicted\"].diff()\n"
   ]
  },
  {
   "cell_type": "code",
   "execution_count": null,
   "id": "eZAXYiC10zf5",
   "metadata": {
    "id": "eZAXYiC10zf5"
   },
   "outputs": [],
   "source": [
    "alp_api = \n",
    "secret_key1 = "
   ]
  },
  {
   "cell_type": "code",
   "execution_count": null,
   "id": "r5i-EJ_0p3jR",
   "metadata": {
    "id": "r5i-EJ_0p3jR"
   },
   "outputs": [],
   "source": [
    "api = alpacaapi.REST(alp_api, secret_key1, \"https://paper-api.alpaca.markets\")"
   ]
  },
  {
   "cell_type": "code",
   "execution_count": null,
   "id": "yJ8YL28iyJW1",
   "metadata": {
    "colab": {
     "base_uri": "https://localhost:8080/"
    },
    "id": "yJ8YL28iyJW1",
    "outputId": "06b1f714-51e7-4801-cc85-dd57b65e3dc0"
   },
   "outputs": [],
   "source": [
    "# Fetch Account\n",
    "account = api.get_account()\n",
    "\n",
    "# Print Account Details\n",
    "print(account.id, account.equity, account.status)"
   ]
  },
  {
   "cell_type": "code",
   "execution_count": null,
   "id": "dXH9U_7qHp_k",
   "metadata": {
    "id": "dXH9U_7qHp_k"
   },
   "outputs": [],
   "source": [
    "btc_pred_only = btc_predictions_df.loc[:, [\"Entry/Exit\"]]\n",
    "eth_pred_only = eth_predictions_df.loc[:, [\"Entry/Exit\"]]\n",
    "ltc_pred_only = ltc_predictions_df.loc[:, [\"Entry/Exit\"]]\n",
    "bch_pred_only = bch_predictions_df.loc[:, [\"Entry/Exit\"]]"
   ]
  },
  {
   "cell_type": "code",
   "execution_count": null,
   "id": "omd3zcx-Dbfg",
   "metadata": {
    "colab": {
     "base_uri": "https://localhost:8080/",
     "height": 237
    },
    "id": "omd3zcx-Dbfg",
    "outputId": "45e06d62-8719-4a42-aef8-6626766027d5"
   },
   "outputs": [],
   "source": [
    "btc_predictions_df.tail()"
   ]
  },
  {
   "cell_type": "code",
   "execution_count": null,
   "id": "J27Wq5NuLxjb",
   "metadata": {
    "colab": {
     "base_uri": "https://localhost:8080/",
     "height": 1000
    },
    "id": "J27Wq5NuLxjb",
    "outputId": "a8245e2b-3583-4731-f2c4-eb7e49dbf16c"
   },
   "outputs": [],
   "source": [
    "btc_pred_only.head(50)"
   ]
  },
  {
   "cell_type": "code",
   "execution_count": null,
   "id": "hnsC8VOAcrtO",
   "metadata": {
    "colab": {
     "base_uri": "https://localhost:8080/"
    },
    "id": "hnsC8VOAcrtO",
    "outputId": "80530b6d-3ae6-4029-f592-b22e16d9741d"
   },
   "outputs": [],
   "source": [
    "#Instantiate buy order for all\n",
    "api.submit_order(symbol=\"BTCUSD\", qty=1,\n",
    "    side='buy',\n",
    "    type='market',\n",
    "    time_in_force='day')\n",
    "api.submit_order(symbol=\"ETHUSD\", qty=1,\n",
    "    side='buy',\n",
    "    type='market',\n",
    "    time_in_force='day')\n",
    "api.submit_order(symbol=\"LTCUSD\", qty=1,\n",
    "    side='buy',\n",
    "    type='market',\n",
    "    time_in_force='day')\n",
    "api.submit_order(symbol=\"BCHUSD\", qty=1,\n",
    "    side='buy',\n",
    "    type='market',\n",
    "    time_in_force='day')"
   ]
  },
  {
   "cell_type": "code",
   "execution_count": null,
   "id": "DqgwIy9KEx_3",
   "metadata": {
    "colab": {
     "base_uri": "https://localhost:8080/"
    },
    "id": "DqgwIy9KEx_3",
    "outputId": "51e8778c-6301-48eb-bb42-983b08a5f7a9"
   },
   "outputs": [],
   "source": [
    "if btc_pred_only[\"Entry/Exit\"].iloc[-1] == 2.0:\n",
    "    print(\"buy\")\n",
    "    api.submit_order(symbol='BTCUSD',\n",
    "    qty=1,\n",
    "    side='buy',\n",
    "    type='market',\n",
    "    time_in_force='day')\n",
    "elif btc_pred_only[\"Entry/Exit\"].iloc[-1]== -2.0:\n",
    "    print(\"sell\")\n",
    "    api.submit_order(symbol='BTCUSD',\n",
    "                      qty=1,\n",
    "                      side='sell',\n",
    "                      type='market',\n",
    "                      time_in_force='day')\n",
    "else: print(\"hold\")    "
   ]
  },
  {
   "cell_type": "code",
   "execution_count": null,
   "id": "RETtlP6ICqWA",
   "metadata": {
    "colab": {
     "base_uri": "https://localhost:8080/"
    },
    "id": "RETtlP6ICqWA",
    "outputId": "556ddd3b-8a95-4a61-865f-f550afc13b1c"
   },
   "outputs": [],
   "source": [
    "if eth_pred_only[\"Entry/Exit\"].iloc[-1] == 2.0:\n",
    "    print(\"buy\")\n",
    "    api.submit_order(symbol='ETHUSD',\n",
    "    qty=1,\n",
    "    side='buy',\n",
    "    type='market',\n",
    "    time_in_force='day')\n",
    "elif eth_pred_only[\"Entry/Exit\"].iloc[-1] == -2.0:\n",
    "    print(\"sell\")\n",
    "    api.submit_order(symbol='ETHUSD',\n",
    "                      qty=1,\n",
    "                      side='sell',\n",
    "                      type='market',\n",
    "                      time_in_force='day')\n",
    "else: print(\"hold\")    "
   ]
  },
  {
   "cell_type": "code",
   "execution_count": null,
   "id": "7QZJP_P1FdsD",
   "metadata": {
    "colab": {
     "base_uri": "https://localhost:8080/"
    },
    "id": "7QZJP_P1FdsD",
    "outputId": "a3f5da63-44bc-4ec0-8c4b-4ec2749640f6"
   },
   "outputs": [],
   "source": [
    "if ltc_pred_only[\"Entry/Exit\"].iloc[-1] == 2.0:\n",
    "    print(\"buy\")\n",
    "    api.submit_order(symbol='LTCUSD',\n",
    "    qty=1,\n",
    "    side='buy',\n",
    "    type='market',\n",
    "    time_in_force='day')\n",
    "elif ltc_pred_only[\"Entry/Exit\"].iloc[-1] == -2.0:\n",
    "    print(\"sell\")\n",
    "    api.submit_order(symbol='LTCUSD',\n",
    "                      qty=1,\n",
    "                      side='sell',\n",
    "                      type='market',\n",
    "                      time_in_force='day')\n",
    "else: print(\"hold\")    "
   ]
  },
  {
   "cell_type": "code",
   "execution_count": null,
   "id": "hU_hEeu3FoSF",
   "metadata": {
    "colab": {
     "base_uri": "https://localhost:8080/"
    },
    "id": "hU_hEeu3FoSF",
    "outputId": "437f7aee-b0e9-456a-c240-507eca08ea03"
   },
   "outputs": [],
   "source": [
    "if bch_pred_only[\"Entry/Exit\"].iloc[-1] == 2.0:\n",
    "    print(\"buy\")\n",
    "    api.submit_order(symbol='BCHUSD',\n",
    "    qty=1,\n",
    "    side='buy',\n",
    "    type='market',\n",
    "    time_in_force='day')\n",
    "elif bch_pred_only[\"Entry/Exit\"].iloc[-1] == -2.0:\n",
    "    print(\"sell\")\n",
    "    api.submit_order(symbol='BCHUSD',\n",
    "                      qty=1,\n",
    "                      side='sell',\n",
    "                      type='market',\n",
    "                      time_in_force='day')\n",
    "else: print(\"hold\")    "
   ]
  }
 ],
 "metadata": {
  "colab": {
   "collapsed_sections": [],
   "name": "Dumblebucha.ipynb",
   "provenance": []
  },
  "kernelspec": {
   "display_name": "Python (dev)",
   "language": "python",
   "name": "dev"
  },
  "language_info": {
   "codemirror_mode": {
    "name": "ipython",
    "version": 3
   },
   "file_extension": ".py",
   "mimetype": "text/x-python",
   "name": "python",
   "nbconvert_exporter": "python",
   "pygments_lexer": "ipython3",
   "version": "3.7.7"
  }
 },
 "nbformat": 4,
 "nbformat_minor": 5
}
