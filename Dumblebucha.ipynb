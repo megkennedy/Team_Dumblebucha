{
  "cells": [
    {
      "cell_type": "code",
      "execution_count": 1,
      "id": "fddb1975-a2b0-4205-8220-e7047e0de65b",
      "metadata": {
        "id": "fddb1975-a2b0-4205-8220-e7047e0de65b"
      },
      "outputs": [],
      "source": [
        "# Imports\n",
        "import pandas as pd\n",
        "import numpy as np\n",
        "from pathlib import Path\n",
        "#import hvplot.pandas\n",
        "import matplotlib.pyplot as plt\n",
        "from sklearn import svm\n",
        "from sklearn.preprocessing import StandardScaler\n",
        "from pandas.tseries.offsets import DateOffset\n",
        "from sklearn.metrics import classification_report\n",
        "import os\n",
        "#from dotenv import load_dotenv\n",
        "import requests\n",
        "import json"
      ]
    },
    {
      "cell_type": "code",
      "execution_count": 3,
      "id": "j90Fy1OPYF56",
      "metadata": {
        "colab": {
          "base_uri": "https://localhost:8080/",
          "height": 472
        },
        "id": "j90Fy1OPYF56",
        "outputId": "1ab93db1-dc1e-43a6-f6e9-40f29cd80b3e"
      },
      "outputs": [
        {
          "name": "stdout",
          "output_type": "stream",
          "text": [
            "Drive already mounted at /content/drive; to attempt to forcibly remount, call drive.mount(\"/content/drive\", force_remount=True).\n"
          ]
        },
        {
          "data": {
            "text/html": [
              "<div>\n",
              "<style scoped>\n",
              "    .dataframe tbody tr th:only-of-type {\n",
              "        vertical-align: middle;\n",
              "    }\n",
              "\n",
              "    .dataframe tbody tr th {\n",
              "        vertical-align: top;\n",
              "    }\n",
              "\n",
              "    .dataframe thead th {\n",
              "        text-align: right;\n",
              "    }\n",
              "</style>\n",
              "<table border=\"1\" class=\"dataframe\">\n",
              "  <thead>\n",
              "    <tr style=\"text-align: right;\">\n",
              "      <th></th>\n",
              "      <th>Open</th>\n",
              "      <th>High</th>\n",
              "      <th>Low</th>\n",
              "      <th>Close</th>\n",
              "      <th>Adj Close</th>\n",
              "      <th>Volume</th>\n",
              "    </tr>\n",
              "    <tr>\n",
              "      <th>Date</th>\n",
              "      <th></th>\n",
              "      <th></th>\n",
              "      <th></th>\n",
              "      <th></th>\n",
              "      <th></th>\n",
              "      <th></th>\n",
              "    </tr>\n",
              "  </thead>\n",
              "  <tbody>\n",
              "    <tr>\n",
              "      <th>2017-12-31</th>\n",
              "      <td>12897.70020</td>\n",
              "      <td>14377.40039</td>\n",
              "      <td>12755.59961</td>\n",
              "      <td>14156.40039</td>\n",
              "      <td>14156.40039</td>\n",
              "      <td>1.213630e+10</td>\n",
              "    </tr>\n",
              "    <tr>\n",
              "      <th>2018-01-01</th>\n",
              "      <td>14112.20020</td>\n",
              "      <td>14112.20020</td>\n",
              "      <td>13154.70020</td>\n",
              "      <td>13657.20020</td>\n",
              "      <td>13657.20020</td>\n",
              "      <td>1.029120e+10</td>\n",
              "    </tr>\n",
              "    <tr>\n",
              "      <th>2018-01-02</th>\n",
              "      <td>13625.00000</td>\n",
              "      <td>15444.59961</td>\n",
              "      <td>13163.59961</td>\n",
              "      <td>14982.09961</td>\n",
              "      <td>14982.09961</td>\n",
              "      <td>1.684660e+10</td>\n",
              "    </tr>\n",
              "    <tr>\n",
              "      <th>2018-01-03</th>\n",
              "      <td>14978.20020</td>\n",
              "      <td>15572.79981</td>\n",
              "      <td>14844.50000</td>\n",
              "      <td>15201.00000</td>\n",
              "      <td>15201.00000</td>\n",
              "      <td>1.687190e+10</td>\n",
              "    </tr>\n",
              "    <tr>\n",
              "      <th>2018-01-04</th>\n",
              "      <td>15270.70020</td>\n",
              "      <td>15739.70020</td>\n",
              "      <td>14522.20020</td>\n",
              "      <td>15599.20020</td>\n",
              "      <td>15599.20020</td>\n",
              "      <td>2.178320e+10</td>\n",
              "    </tr>\n",
              "    <tr>\n",
              "      <th>...</th>\n",
              "      <td>...</td>\n",
              "      <td>...</td>\n",
              "      <td>...</td>\n",
              "      <td>...</td>\n",
              "      <td>...</td>\n",
              "      <td>...</td>\n",
              "    </tr>\n",
              "    <tr>\n",
              "      <th>2021-11-27</th>\n",
              "      <td>53736.42969</td>\n",
              "      <td>55329.25781</td>\n",
              "      <td>53668.35547</td>\n",
              "      <td>54815.07813</td>\n",
              "      <td>54815.07813</td>\n",
              "      <td>3.056086e+10</td>\n",
              "    </tr>\n",
              "    <tr>\n",
              "      <th>2021-11-28</th>\n",
              "      <td>54813.02344</td>\n",
              "      <td>57393.84375</td>\n",
              "      <td>53576.73438</td>\n",
              "      <td>57248.45703</td>\n",
              "      <td>57248.45703</td>\n",
              "      <td>2.811689e+10</td>\n",
              "    </tr>\n",
              "    <tr>\n",
              "      <th>2021-11-29</th>\n",
              "      <td>57291.90625</td>\n",
              "      <td>58872.87891</td>\n",
              "      <td>56792.52734</td>\n",
              "      <td>57806.56641</td>\n",
              "      <td>57806.56641</td>\n",
              "      <td>3.237084e+10</td>\n",
              "    </tr>\n",
              "    <tr>\n",
              "      <th>2021-11-30</th>\n",
              "      <td>57830.11328</td>\n",
              "      <td>59113.40234</td>\n",
              "      <td>56057.28125</td>\n",
              "      <td>57005.42578</td>\n",
              "      <td>57005.42578</td>\n",
              "      <td>3.670859e+10</td>\n",
              "    </tr>\n",
              "    <tr>\n",
              "      <th>2021-12-01</th>\n",
              "      <td>56907.96484</td>\n",
              "      <td>59041.68359</td>\n",
              "      <td>56553.08203</td>\n",
              "      <td>57229.82813</td>\n",
              "      <td>57229.82813</td>\n",
              "      <td>3.685820e+10</td>\n",
              "    </tr>\n",
              "  </tbody>\n",
              "</table>\n",
              "<p>1432 rows × 6 columns</p>\n",
              "</div>"
            ],
            "text/plain": [
              "                   Open         High  ...    Adj Close        Volume\n",
              "Date                                  ...                           \n",
              "2017-12-31  12897.70020  14377.40039  ...  14156.40039  1.213630e+10\n",
              "2018-01-01  14112.20020  14112.20020  ...  13657.20020  1.029120e+10\n",
              "2018-01-02  13625.00000  15444.59961  ...  14982.09961  1.684660e+10\n",
              "2018-01-03  14978.20020  15572.79981  ...  15201.00000  1.687190e+10\n",
              "2018-01-04  15270.70020  15739.70020  ...  15599.20020  2.178320e+10\n",
              "...                 ...          ...  ...          ...           ...\n",
              "2021-11-27  53736.42969  55329.25781  ...  54815.07813  3.056086e+10\n",
              "2021-11-28  54813.02344  57393.84375  ...  57248.45703  2.811689e+10\n",
              "2021-11-29  57291.90625  58872.87891  ...  57806.56641  3.237084e+10\n",
              "2021-11-30  57830.11328  59113.40234  ...  57005.42578  3.670859e+10\n",
              "2021-12-01  56907.96484  59041.68359  ...  57229.82813  3.685820e+10\n",
              "\n",
              "[1432 rows x 6 columns]"
            ]
          },
          "execution_count": 3,
          "metadata": {},
          "output_type": "execute_result"
        }
      ],
      "source": [
        "from google.colab import drive\n",
        "drive.mount(\"/content/drive\")\n",
        "path=\"/content/drive/MyDrive/Crypto_HistoricalData_2017-2021/BTC-USD (Pickthisone).csv\"\n",
        "Bitcoin_df = pd.read_csv(path, index_col= \"Date\", parse_dates= True, infer_datetime_format= True)\n",
        "Bitcoin_df"
      ]
    },
    {
      "cell_type": "code",
      "execution_count": 4,
      "id": "Ug4CebWVadXU",
      "metadata": {
        "colab": {
          "base_uri": "https://localhost:8080/",
          "height": 455
        },
        "id": "Ug4CebWVadXU",
        "outputId": "fee61628-1e75-412f-efde-62662bab1213"
      },
      "outputs": [
        {
          "data": {
            "text/html": [
              "<div>\n",
              "<style scoped>\n",
              "    .dataframe tbody tr th:only-of-type {\n",
              "        vertical-align: middle;\n",
              "    }\n",
              "\n",
              "    .dataframe tbody tr th {\n",
              "        vertical-align: top;\n",
              "    }\n",
              "\n",
              "    .dataframe thead th {\n",
              "        text-align: right;\n",
              "    }\n",
              "</style>\n",
              "<table border=\"1\" class=\"dataframe\">\n",
              "  <thead>\n",
              "    <tr style=\"text-align: right;\">\n",
              "      <th></th>\n",
              "      <th>Open</th>\n",
              "      <th>High</th>\n",
              "      <th>Low</th>\n",
              "      <th>Close</th>\n",
              "      <th>Adj Close</th>\n",
              "      <th>Volume</th>\n",
              "    </tr>\n",
              "    <tr>\n",
              "      <th>Date</th>\n",
              "      <th></th>\n",
              "      <th></th>\n",
              "      <th></th>\n",
              "      <th></th>\n",
              "      <th></th>\n",
              "      <th></th>\n",
              "    </tr>\n",
              "  </thead>\n",
              "  <tbody>\n",
              "    <tr>\n",
              "      <th>2017-12-31</th>\n",
              "      <td>2376.959961</td>\n",
              "      <td>2627.949951</td>\n",
              "      <td>2350.030029</td>\n",
              "      <td>2533.010010</td>\n",
              "      <td>2533.010010</td>\n",
              "      <td>1.300820e+09</td>\n",
              "    </tr>\n",
              "    <tr>\n",
              "      <th>2018-01-01</th>\n",
              "      <td>2534.820068</td>\n",
              "      <td>2534.860107</td>\n",
              "      <td>2389.520020</td>\n",
              "      <td>2432.540039</td>\n",
              "      <td>2432.540039</td>\n",
              "      <td>9.228130e+08</td>\n",
              "    </tr>\n",
              "    <tr>\n",
              "      <th>2018-01-02</th>\n",
              "      <td>2434.500000</td>\n",
              "      <td>2867.139893</td>\n",
              "      <td>2434.500000</td>\n",
              "      <td>2711.000000</td>\n",
              "      <td>2711.000000</td>\n",
              "      <td>1.831230e+09</td>\n",
              "    </tr>\n",
              "    <tr>\n",
              "      <th>2018-01-03</th>\n",
              "      <td>2700.550049</td>\n",
              "      <td>2958.469971</td>\n",
              "      <td>2592.560059</td>\n",
              "      <td>2608.689941</td>\n",
              "      <td>2608.689941</td>\n",
              "      <td>4.688840e+09</td>\n",
              "    </tr>\n",
              "    <tr>\n",
              "      <th>2018-01-04</th>\n",
              "      <td>2608.870117</td>\n",
              "      <td>2610.199951</td>\n",
              "      <td>2359.300049</td>\n",
              "      <td>2430.179932</td>\n",
              "      <td>2430.179932</td>\n",
              "      <td>5.377260e+09</td>\n",
              "    </tr>\n",
              "    <tr>\n",
              "      <th>...</th>\n",
              "      <td>...</td>\n",
              "      <td>...</td>\n",
              "      <td>...</td>\n",
              "      <td>...</td>\n",
              "      <td>...</td>\n",
              "      <td>...</td>\n",
              "    </tr>\n",
              "    <tr>\n",
              "      <th>2021-11-27</th>\n",
              "      <td>556.604675</td>\n",
              "      <td>573.629150</td>\n",
              "      <td>555.838318</td>\n",
              "      <td>563.338440</td>\n",
              "      <td>563.338440</td>\n",
              "      <td>8.572744e+08</td>\n",
              "    </tr>\n",
              "    <tr>\n",
              "      <th>2021-11-28</th>\n",
              "      <td>563.370972</td>\n",
              "      <td>568.493103</td>\n",
              "      <td>537.422546</td>\n",
              "      <td>568.336182</td>\n",
              "      <td>568.336182</td>\n",
              "      <td>1.185817e+09</td>\n",
              "    </tr>\n",
              "    <tr>\n",
              "      <th>2021-11-29</th>\n",
              "      <td>568.920349</td>\n",
              "      <td>581.188171</td>\n",
              "      <td>558.350525</td>\n",
              "      <td>576.121765</td>\n",
              "      <td>576.121765</td>\n",
              "      <td>1.091029e+09</td>\n",
              "    </tr>\n",
              "    <tr>\n",
              "      <th>2021-11-30</th>\n",
              "      <td>575.651184</td>\n",
              "      <td>586.898010</td>\n",
              "      <td>557.528259</td>\n",
              "      <td>570.529663</td>\n",
              "      <td>570.529663</td>\n",
              "      <td>1.170852e+09</td>\n",
              "    </tr>\n",
              "    <tr>\n",
              "      <th>2021-12-01</th>\n",
              "      <td>569.954773</td>\n",
              "      <td>587.039368</td>\n",
              "      <td>565.719543</td>\n",
              "      <td>571.056885</td>\n",
              "      <td>571.056885</td>\n",
              "      <td>8.762193e+08</td>\n",
              "    </tr>\n",
              "  </tbody>\n",
              "</table>\n",
              "<p>1432 rows × 6 columns</p>\n",
              "</div>"
            ],
            "text/plain": [
              "                   Open         High  ...    Adj Close        Volume\n",
              "Date                                  ...                           \n",
              "2017-12-31  2376.959961  2627.949951  ...  2533.010010  1.300820e+09\n",
              "2018-01-01  2534.820068  2534.860107  ...  2432.540039  9.228130e+08\n",
              "2018-01-02  2434.500000  2867.139893  ...  2711.000000  1.831230e+09\n",
              "2018-01-03  2700.550049  2958.469971  ...  2608.689941  4.688840e+09\n",
              "2018-01-04  2608.870117  2610.199951  ...  2430.179932  5.377260e+09\n",
              "...                 ...          ...  ...          ...           ...\n",
              "2021-11-27   556.604675   573.629150  ...   563.338440  8.572744e+08\n",
              "2021-11-28   563.370972   568.493103  ...   568.336182  1.185817e+09\n",
              "2021-11-29   568.920349   581.188171  ...   576.121765  1.091029e+09\n",
              "2021-11-30   575.651184   586.898010  ...   570.529663  1.170852e+09\n",
              "2021-12-01   569.954773   587.039368  ...   571.056885  8.762193e+08\n",
              "\n",
              "[1432 rows x 6 columns]"
            ]
          },
          "execution_count": 4,
          "metadata": {},
          "output_type": "execute_result"
        }
      ],
      "source": [
        "path=\"/content/drive/MyDrive/Crypto_HistoricalData_2017-2021/BCH-USD.csv\"\n",
        "BitcoinCash_df = pd.read_csv(path, index_col= \"Date\", parse_dates= True, infer_datetime_format= True )\n",
        "BitcoinCash_df"
      ]
    },
    {
      "cell_type": "code",
      "execution_count": 5,
      "id": "OeB-Hx3QavBe",
      "metadata": {
        "colab": {
          "base_uri": "https://localhost:8080/",
          "height": 455
        },
        "id": "OeB-Hx3QavBe",
        "outputId": "0d2da48e-462d-4fa8-bf13-d572f8a78a30"
      },
      "outputs": [
        {
          "data": {
            "text/html": [
              "<div>\n",
              "<style scoped>\n",
              "    .dataframe tbody tr th:only-of-type {\n",
              "        vertical-align: middle;\n",
              "    }\n",
              "\n",
              "    .dataframe tbody tr th {\n",
              "        vertical-align: top;\n",
              "    }\n",
              "\n",
              "    .dataframe thead th {\n",
              "        text-align: right;\n",
              "    }\n",
              "</style>\n",
              "<table border=\"1\" class=\"dataframe\">\n",
              "  <thead>\n",
              "    <tr style=\"text-align: right;\">\n",
              "      <th></th>\n",
              "      <th>Open</th>\n",
              "      <th>High</th>\n",
              "      <th>Low</th>\n",
              "      <th>Close</th>\n",
              "      <th>Adj Close</th>\n",
              "      <th>Volume</th>\n",
              "    </tr>\n",
              "    <tr>\n",
              "      <th>Date</th>\n",
              "      <th></th>\n",
              "      <th></th>\n",
              "      <th></th>\n",
              "      <th></th>\n",
              "      <th></th>\n",
              "      <th></th>\n",
              "    </tr>\n",
              "  </thead>\n",
              "  <tbody>\n",
              "    <tr>\n",
              "      <th>2017-12-31</th>\n",
              "      <td>712.211975</td>\n",
              "      <td>760.348022</td>\n",
              "      <td>710.119019</td>\n",
              "      <td>756.732971</td>\n",
              "      <td>756.732971</td>\n",
              "      <td>2.554270e+09</td>\n",
              "    </tr>\n",
              "    <tr>\n",
              "      <th>2018-01-01</th>\n",
              "      <td>755.757019</td>\n",
              "      <td>782.530029</td>\n",
              "      <td>742.004028</td>\n",
              "      <td>772.640991</td>\n",
              "      <td>772.640991</td>\n",
              "      <td>2.595760e+09</td>\n",
              "    </tr>\n",
              "    <tr>\n",
              "      <th>2018-01-02</th>\n",
              "      <td>772.346008</td>\n",
              "      <td>914.830017</td>\n",
              "      <td>772.346008</td>\n",
              "      <td>884.443970</td>\n",
              "      <td>884.443970</td>\n",
              "      <td>5.783350e+09</td>\n",
              "    </tr>\n",
              "    <tr>\n",
              "      <th>2018-01-03</th>\n",
              "      <td>886.000000</td>\n",
              "      <td>974.471008</td>\n",
              "      <td>868.450989</td>\n",
              "      <td>962.719971</td>\n",
              "      <td>962.719971</td>\n",
              "      <td>5.093160e+09</td>\n",
              "    </tr>\n",
              "    <tr>\n",
              "      <th>2018-01-04</th>\n",
              "      <td>961.713013</td>\n",
              "      <td>1045.079956</td>\n",
              "      <td>946.085999</td>\n",
              "      <td>980.921997</td>\n",
              "      <td>980.921997</td>\n",
              "      <td>6.502860e+09</td>\n",
              "    </tr>\n",
              "    <tr>\n",
              "      <th>...</th>\n",
              "      <td>...</td>\n",
              "      <td>...</td>\n",
              "      <td>...</td>\n",
              "      <td>...</td>\n",
              "      <td>...</td>\n",
              "      <td>...</td>\n",
              "    </tr>\n",
              "    <tr>\n",
              "      <th>2021-11-27</th>\n",
              "      <td>4042.999023</td>\n",
              "      <td>4187.684082</td>\n",
              "      <td>4033.513916</td>\n",
              "      <td>4096.912109</td>\n",
              "      <td>4096.912109</td>\n",
              "      <td>1.651569e+10</td>\n",
              "    </tr>\n",
              "    <tr>\n",
              "      <th>2021-11-28</th>\n",
              "      <td>4101.648926</td>\n",
              "      <td>4297.916504</td>\n",
              "      <td>3989.969971</td>\n",
              "      <td>4294.453613</td>\n",
              "      <td>4294.453613</td>\n",
              "      <td>1.595313e+10</td>\n",
              "    </tr>\n",
              "    <tr>\n",
              "      <th>2021-11-29</th>\n",
              "      <td>4296.946777</td>\n",
              "      <td>4460.848633</td>\n",
              "      <td>4284.504883</td>\n",
              "      <td>4445.104980</td>\n",
              "      <td>4445.104980</td>\n",
              "      <td>1.908648e+10</td>\n",
              "    </tr>\n",
              "    <tr>\n",
              "      <th>2021-11-30</th>\n",
              "      <td>4447.768066</td>\n",
              "      <td>4753.266113</td>\n",
              "      <td>4358.074219</td>\n",
              "      <td>4631.479004</td>\n",
              "      <td>4631.479004</td>\n",
              "      <td>2.862635e+10</td>\n",
              "    </tr>\n",
              "    <tr>\n",
              "      <th>2021-12-01</th>\n",
              "      <td>4623.679688</td>\n",
              "      <td>4780.732422</td>\n",
              "      <td>4530.272461</td>\n",
              "      <td>4586.990234</td>\n",
              "      <td>4586.990234</td>\n",
              "      <td>2.763483e+10</td>\n",
              "    </tr>\n",
              "  </tbody>\n",
              "</table>\n",
              "<p>1432 rows × 6 columns</p>\n",
              "</div>"
            ],
            "text/plain": [
              "                   Open         High  ...    Adj Close        Volume\n",
              "Date                                  ...                           \n",
              "2017-12-31   712.211975   760.348022  ...   756.732971  2.554270e+09\n",
              "2018-01-01   755.757019   782.530029  ...   772.640991  2.595760e+09\n",
              "2018-01-02   772.346008   914.830017  ...   884.443970  5.783350e+09\n",
              "2018-01-03   886.000000   974.471008  ...   962.719971  5.093160e+09\n",
              "2018-01-04   961.713013  1045.079956  ...   980.921997  6.502860e+09\n",
              "...                 ...          ...  ...          ...           ...\n",
              "2021-11-27  4042.999023  4187.684082  ...  4096.912109  1.651569e+10\n",
              "2021-11-28  4101.648926  4297.916504  ...  4294.453613  1.595313e+10\n",
              "2021-11-29  4296.946777  4460.848633  ...  4445.104980  1.908648e+10\n",
              "2021-11-30  4447.768066  4753.266113  ...  4631.479004  2.862635e+10\n",
              "2021-12-01  4623.679688  4780.732422  ...  4586.990234  2.763483e+10\n",
              "\n",
              "[1432 rows x 6 columns]"
            ]
          },
          "execution_count": 5,
          "metadata": {},
          "output_type": "execute_result"
        }
      ],
      "source": [
        "path=\"/content/drive/MyDrive/Crypto_HistoricalData_2017-2021/ETH-USD (This One).csv\"\n",
        "Ethereum_df = pd.read_csv(path, index_col= \"Date\", parse_dates= True, infer_datetime_format= True)\n",
        "Ethereum_df"
      ]
    },
    {
      "cell_type": "code",
      "execution_count": 6,
      "id": "ECfZZO5wa2HK",
      "metadata": {
        "colab": {
          "base_uri": "https://localhost:8080/",
          "height": 455
        },
        "id": "ECfZZO5wa2HK",
        "outputId": "640ee8e6-e788-4b2c-b986-081b7c2ac685"
      },
      "outputs": [
        {
          "data": {
            "text/html": [
              "<div>\n",
              "<style scoped>\n",
              "    .dataframe tbody tr th:only-of-type {\n",
              "        vertical-align: middle;\n",
              "    }\n",
              "\n",
              "    .dataframe tbody tr th {\n",
              "        vertical-align: top;\n",
              "    }\n",
              "\n",
              "    .dataframe thead th {\n",
              "        text-align: right;\n",
              "    }\n",
              "</style>\n",
              "<table border=\"1\" class=\"dataframe\">\n",
              "  <thead>\n",
              "    <tr style=\"text-align: right;\">\n",
              "      <th></th>\n",
              "      <th>Open</th>\n",
              "      <th>High</th>\n",
              "      <th>Low</th>\n",
              "      <th>Close</th>\n",
              "      <th>Adj Close</th>\n",
              "      <th>Volume</th>\n",
              "    </tr>\n",
              "    <tr>\n",
              "      <th>Date</th>\n",
              "      <th></th>\n",
              "      <th></th>\n",
              "      <th></th>\n",
              "      <th></th>\n",
              "      <th></th>\n",
              "      <th></th>\n",
              "    </tr>\n",
              "  </thead>\n",
              "  <tbody>\n",
              "    <tr>\n",
              "      <th>2017-12-31</th>\n",
              "      <td>216.975006</td>\n",
              "      <td>237.791000</td>\n",
              "      <td>213.811005</td>\n",
              "      <td>232.095993</td>\n",
              "      <td>232.095993</td>\n",
              "      <td>7.710420e+08</td>\n",
              "    </tr>\n",
              "    <tr>\n",
              "      <th>2018-01-01</th>\n",
              "      <td>231.666000</td>\n",
              "      <td>236.634003</td>\n",
              "      <td>222.203003</td>\n",
              "      <td>229.033005</td>\n",
              "      <td>229.033005</td>\n",
              "      <td>6.331420e+08</td>\n",
              "    </tr>\n",
              "    <tr>\n",
              "      <th>2018-01-02</th>\n",
              "      <td>228.990005</td>\n",
              "      <td>263.625000</td>\n",
              "      <td>228.990005</td>\n",
              "      <td>255.684006</td>\n",
              "      <td>255.684006</td>\n",
              "      <td>1.237950e+09</td>\n",
              "    </tr>\n",
              "    <tr>\n",
              "      <th>2018-01-03</th>\n",
              "      <td>255.695007</td>\n",
              "      <td>260.742004</td>\n",
              "      <td>243.134995</td>\n",
              "      <td>245.367996</td>\n",
              "      <td>245.367996</td>\n",
              "      <td>3.215280e+09</td>\n",
              "    </tr>\n",
              "    <tr>\n",
              "      <th>2018-01-04</th>\n",
              "      <td>245.475006</td>\n",
              "      <td>245.475006</td>\n",
              "      <td>227.013000</td>\n",
              "      <td>241.369995</td>\n",
              "      <td>241.369995</td>\n",
              "      <td>3.481550e+09</td>\n",
              "    </tr>\n",
              "    <tr>\n",
              "      <th>...</th>\n",
              "      <td>...</td>\n",
              "      <td>...</td>\n",
              "      <td>...</td>\n",
              "      <td>...</td>\n",
              "      <td>...</td>\n",
              "      <td>...</td>\n",
              "    </tr>\n",
              "    <tr>\n",
              "      <th>2021-11-27</th>\n",
              "      <td>195.557861</td>\n",
              "      <td>200.845459</td>\n",
              "      <td>191.198303</td>\n",
              "      <td>195.174423</td>\n",
              "      <td>195.174423</td>\n",
              "      <td>1.406618e+09</td>\n",
              "    </tr>\n",
              "    <tr>\n",
              "      <th>2021-11-28</th>\n",
              "      <td>195.414597</td>\n",
              "      <td>199.871216</td>\n",
              "      <td>184.106033</td>\n",
              "      <td>199.354218</td>\n",
              "      <td>199.354218</td>\n",
              "      <td>1.712283e+09</td>\n",
              "    </tr>\n",
              "    <tr>\n",
              "      <th>2021-11-29</th>\n",
              "      <td>199.590988</td>\n",
              "      <td>209.291626</td>\n",
              "      <td>195.754562</td>\n",
              "      <td>205.870209</td>\n",
              "      <td>205.870209</td>\n",
              "      <td>1.784851e+09</td>\n",
              "    </tr>\n",
              "    <tr>\n",
              "      <th>2021-11-30</th>\n",
              "      <td>205.733047</td>\n",
              "      <td>218.339645</td>\n",
              "      <td>198.146255</td>\n",
              "      <td>208.014542</td>\n",
              "      <td>208.014542</td>\n",
              "      <td>2.122547e+09</td>\n",
              "    </tr>\n",
              "    <tr>\n",
              "      <th>2021-12-01</th>\n",
              "      <td>207.636612</td>\n",
              "      <td>217.506332</td>\n",
              "      <td>205.805603</td>\n",
              "      <td>208.971252</td>\n",
              "      <td>208.971252</td>\n",
              "      <td>1.739548e+09</td>\n",
              "    </tr>\n",
              "  </tbody>\n",
              "</table>\n",
              "<p>1432 rows × 6 columns</p>\n",
              "</div>"
            ],
            "text/plain": [
              "                  Open        High  ...   Adj Close        Volume\n",
              "Date                                ...                          \n",
              "2017-12-31  216.975006  237.791000  ...  232.095993  7.710420e+08\n",
              "2018-01-01  231.666000  236.634003  ...  229.033005  6.331420e+08\n",
              "2018-01-02  228.990005  263.625000  ...  255.684006  1.237950e+09\n",
              "2018-01-03  255.695007  260.742004  ...  245.367996  3.215280e+09\n",
              "2018-01-04  245.475006  245.475006  ...  241.369995  3.481550e+09\n",
              "...                ...         ...  ...         ...           ...\n",
              "2021-11-27  195.557861  200.845459  ...  195.174423  1.406618e+09\n",
              "2021-11-28  195.414597  199.871216  ...  199.354218  1.712283e+09\n",
              "2021-11-29  199.590988  209.291626  ...  205.870209  1.784851e+09\n",
              "2021-11-30  205.733047  218.339645  ...  208.014542  2.122547e+09\n",
              "2021-12-01  207.636612  217.506332  ...  208.971252  1.739548e+09\n",
              "\n",
              "[1432 rows x 6 columns]"
            ]
          },
          "execution_count": 6,
          "metadata": {},
          "output_type": "execute_result"
        }
      ],
      "source": [
        "path=\"/content/drive/MyDrive/Crypto_HistoricalData_2017-2021/LTC-USD.csv\"\n",
        "LiteCoin_df = pd.read_csv(path, index_col= \"Date\", parse_dates= True, infer_datetime_format= True)\n",
        "LiteCoin_df"
      ]
    },
    {
      "cell_type": "code",
      "execution_count": 7,
      "id": "c20f71a0-941d-44d4-8194-bc3cc49fb14a",
      "metadata": {
        "colab": {
          "base_uri": "https://localhost:8080/",
          "height": 899
        },
        "id": "c20f71a0-941d-44d4-8194-bc3cc49fb14a",
        "outputId": "93853c30-363f-40f3-94e7-85681a09108a"
      },
      "outputs": [
        {
          "data": {
            "text/html": [
              "<div>\n",
              "<style scoped>\n",
              "    .dataframe tbody tr th:only-of-type {\n",
              "        vertical-align: middle;\n",
              "    }\n",
              "\n",
              "    .dataframe tbody tr th {\n",
              "        vertical-align: top;\n",
              "    }\n",
              "\n",
              "    .dataframe thead th {\n",
              "        text-align: right;\n",
              "    }\n",
              "</style>\n",
              "<table border=\"1\" class=\"dataframe\">\n",
              "  <thead>\n",
              "    <tr style=\"text-align: right;\">\n",
              "      <th></th>\n",
              "      <th>Close</th>\n",
              "    </tr>\n",
              "    <tr>\n",
              "      <th>Date</th>\n",
              "      <th></th>\n",
              "    </tr>\n",
              "  </thead>\n",
              "  <tbody>\n",
              "    <tr>\n",
              "      <th>2017-12-31</th>\n",
              "      <td>14156.40039</td>\n",
              "    </tr>\n",
              "    <tr>\n",
              "      <th>2018-01-01</th>\n",
              "      <td>13657.20020</td>\n",
              "    </tr>\n",
              "    <tr>\n",
              "      <th>2018-01-02</th>\n",
              "      <td>14982.09961</td>\n",
              "    </tr>\n",
              "    <tr>\n",
              "      <th>2018-01-03</th>\n",
              "      <td>15201.00000</td>\n",
              "    </tr>\n",
              "    <tr>\n",
              "      <th>2018-01-04</th>\n",
              "      <td>15599.20020</td>\n",
              "    </tr>\n",
              "  </tbody>\n",
              "</table>\n",
              "</div>"
            ],
            "text/plain": [
              "                  Close\n",
              "Date                   \n",
              "2017-12-31  14156.40039\n",
              "2018-01-01  13657.20020\n",
              "2018-01-02  14982.09961\n",
              "2018-01-03  15201.00000\n",
              "2018-01-04  15599.20020"
            ]
          },
          "metadata": {},
          "output_type": "display_data"
        },
        {
          "data": {
            "text/html": [
              "<div>\n",
              "<style scoped>\n",
              "    .dataframe tbody tr th:only-of-type {\n",
              "        vertical-align: middle;\n",
              "    }\n",
              "\n",
              "    .dataframe tbody tr th {\n",
              "        vertical-align: top;\n",
              "    }\n",
              "\n",
              "    .dataframe thead th {\n",
              "        text-align: right;\n",
              "    }\n",
              "</style>\n",
              "<table border=\"1\" class=\"dataframe\">\n",
              "  <thead>\n",
              "    <tr style=\"text-align: right;\">\n",
              "      <th></th>\n",
              "      <th>Close</th>\n",
              "    </tr>\n",
              "    <tr>\n",
              "      <th>Date</th>\n",
              "      <th></th>\n",
              "    </tr>\n",
              "  </thead>\n",
              "  <tbody>\n",
              "    <tr>\n",
              "      <th>2017-12-31</th>\n",
              "      <td>756.732971</td>\n",
              "    </tr>\n",
              "    <tr>\n",
              "      <th>2018-01-01</th>\n",
              "      <td>772.640991</td>\n",
              "    </tr>\n",
              "    <tr>\n",
              "      <th>2018-01-02</th>\n",
              "      <td>884.443970</td>\n",
              "    </tr>\n",
              "    <tr>\n",
              "      <th>2018-01-03</th>\n",
              "      <td>962.719971</td>\n",
              "    </tr>\n",
              "    <tr>\n",
              "      <th>2018-01-04</th>\n",
              "      <td>980.921997</td>\n",
              "    </tr>\n",
              "  </tbody>\n",
              "</table>\n",
              "</div>"
            ],
            "text/plain": [
              "                 Close\n",
              "Date                  \n",
              "2017-12-31  756.732971\n",
              "2018-01-01  772.640991\n",
              "2018-01-02  884.443970\n",
              "2018-01-03  962.719971\n",
              "2018-01-04  980.921997"
            ]
          },
          "metadata": {},
          "output_type": "display_data"
        },
        {
          "data": {
            "text/html": [
              "<div>\n",
              "<style scoped>\n",
              "    .dataframe tbody tr th:only-of-type {\n",
              "        vertical-align: middle;\n",
              "    }\n",
              "\n",
              "    .dataframe tbody tr th {\n",
              "        vertical-align: top;\n",
              "    }\n",
              "\n",
              "    .dataframe thead th {\n",
              "        text-align: right;\n",
              "    }\n",
              "</style>\n",
              "<table border=\"1\" class=\"dataframe\">\n",
              "  <thead>\n",
              "    <tr style=\"text-align: right;\">\n",
              "      <th></th>\n",
              "      <th>Close</th>\n",
              "    </tr>\n",
              "    <tr>\n",
              "      <th>Date</th>\n",
              "      <th></th>\n",
              "    </tr>\n",
              "  </thead>\n",
              "  <tbody>\n",
              "    <tr>\n",
              "      <th>2017-12-31</th>\n",
              "      <td>232.095993</td>\n",
              "    </tr>\n",
              "    <tr>\n",
              "      <th>2018-01-01</th>\n",
              "      <td>229.033005</td>\n",
              "    </tr>\n",
              "    <tr>\n",
              "      <th>2018-01-02</th>\n",
              "      <td>255.684006</td>\n",
              "    </tr>\n",
              "    <tr>\n",
              "      <th>2018-01-03</th>\n",
              "      <td>245.367996</td>\n",
              "    </tr>\n",
              "    <tr>\n",
              "      <th>2018-01-04</th>\n",
              "      <td>241.369995</td>\n",
              "    </tr>\n",
              "  </tbody>\n",
              "</table>\n",
              "</div>"
            ],
            "text/plain": [
              "                 Close\n",
              "Date                  \n",
              "2017-12-31  232.095993\n",
              "2018-01-01  229.033005\n",
              "2018-01-02  255.684006\n",
              "2018-01-03  245.367996\n",
              "2018-01-04  241.369995"
            ]
          },
          "metadata": {},
          "output_type": "display_data"
        },
        {
          "data": {
            "text/html": [
              "<div>\n",
              "<style scoped>\n",
              "    .dataframe tbody tr th:only-of-type {\n",
              "        vertical-align: middle;\n",
              "    }\n",
              "\n",
              "    .dataframe tbody tr th {\n",
              "        vertical-align: top;\n",
              "    }\n",
              "\n",
              "    .dataframe thead th {\n",
              "        text-align: right;\n",
              "    }\n",
              "</style>\n",
              "<table border=\"1\" class=\"dataframe\">\n",
              "  <thead>\n",
              "    <tr style=\"text-align: right;\">\n",
              "      <th></th>\n",
              "      <th>Close</th>\n",
              "    </tr>\n",
              "    <tr>\n",
              "      <th>Date</th>\n",
              "      <th></th>\n",
              "    </tr>\n",
              "  </thead>\n",
              "  <tbody>\n",
              "    <tr>\n",
              "      <th>2017-12-31</th>\n",
              "      <td>2533.010010</td>\n",
              "    </tr>\n",
              "    <tr>\n",
              "      <th>2018-01-01</th>\n",
              "      <td>2432.540039</td>\n",
              "    </tr>\n",
              "    <tr>\n",
              "      <th>2018-01-02</th>\n",
              "      <td>2711.000000</td>\n",
              "    </tr>\n",
              "    <tr>\n",
              "      <th>2018-01-03</th>\n",
              "      <td>2608.689941</td>\n",
              "    </tr>\n",
              "    <tr>\n",
              "      <th>2018-01-04</th>\n",
              "      <td>2430.179932</td>\n",
              "    </tr>\n",
              "  </tbody>\n",
              "</table>\n",
              "</div>"
            ],
            "text/plain": [
              "                  Close\n",
              "Date                   \n",
              "2017-12-31  2533.010010\n",
              "2018-01-01  2432.540039\n",
              "2018-01-02  2711.000000\n",
              "2018-01-03  2608.689941\n",
              "2018-01-04  2430.179932"
            ]
          },
          "metadata": {},
          "output_type": "display_data"
        }
      ],
      "source": [
        "# separate into individual dataframes\n",
        "\n",
        "btc_signals_df=Bitcoin_df.loc[:, [\"Close\"]]\n",
        "eth_signals_df=Ethereum_df.loc[:, [\"Close\"]]\n",
        "ltc_signals_df=LiteCoin_df.loc[:, [\"Close\"]]\n",
        "bch_signals_df=BitcoinCash_df.loc[:,[\"Close\"]]\n",
        "\n",
        "display(btc_signals_df.head())\n",
        "display(eth_signals_df.head())\n",
        "display(ltc_signals_df.head())\n",
        "display(bch_signals_df.head())"
      ]
    },
    {
      "cell_type": "code",
      "execution_count": 8,
      "id": "ac76de3d-1612-441b-ab0a-a7ce2ed5ee76",
      "metadata": {
        "colab": {
          "base_uri": "https://localhost:8080/",
          "height": 899
        },
        "id": "ac76de3d-1612-441b-ab0a-a7ce2ed5ee76",
        "outputId": "a0efc7ac-9203-4b4c-80f4-f5f8d2c46d49"
      },
      "outputs": [
        {
          "data": {
            "text/html": [
              "<div>\n",
              "<style scoped>\n",
              "    .dataframe tbody tr th:only-of-type {\n",
              "        vertical-align: middle;\n",
              "    }\n",
              "\n",
              "    .dataframe tbody tr th {\n",
              "        vertical-align: top;\n",
              "    }\n",
              "\n",
              "    .dataframe thead th {\n",
              "        text-align: right;\n",
              "    }\n",
              "</style>\n",
              "<table border=\"1\" class=\"dataframe\">\n",
              "  <thead>\n",
              "    <tr style=\"text-align: right;\">\n",
              "      <th></th>\n",
              "      <th>Close</th>\n",
              "      <th>Actual Returns</th>\n",
              "    </tr>\n",
              "    <tr>\n",
              "      <th>Date</th>\n",
              "      <th></th>\n",
              "      <th></th>\n",
              "    </tr>\n",
              "  </thead>\n",
              "  <tbody>\n",
              "    <tr>\n",
              "      <th>2018-01-01</th>\n",
              "      <td>13657.20020</td>\n",
              "      <td>-0.035263</td>\n",
              "    </tr>\n",
              "    <tr>\n",
              "      <th>2018-01-02</th>\n",
              "      <td>14982.09961</td>\n",
              "      <td>0.097011</td>\n",
              "    </tr>\n",
              "    <tr>\n",
              "      <th>2018-01-03</th>\n",
              "      <td>15201.00000</td>\n",
              "      <td>0.014611</td>\n",
              "    </tr>\n",
              "    <tr>\n",
              "      <th>2018-01-04</th>\n",
              "      <td>15599.20020</td>\n",
              "      <td>0.026196</td>\n",
              "    </tr>\n",
              "    <tr>\n",
              "      <th>2018-01-05</th>\n",
              "      <td>17429.50000</td>\n",
              "      <td>0.117333</td>\n",
              "    </tr>\n",
              "  </tbody>\n",
              "</table>\n",
              "</div>"
            ],
            "text/plain": [
              "                  Close  Actual Returns\n",
              "Date                                   \n",
              "2018-01-01  13657.20020       -0.035263\n",
              "2018-01-02  14982.09961        0.097011\n",
              "2018-01-03  15201.00000        0.014611\n",
              "2018-01-04  15599.20020        0.026196\n",
              "2018-01-05  17429.50000        0.117333"
            ]
          },
          "metadata": {},
          "output_type": "display_data"
        },
        {
          "data": {
            "text/html": [
              "<div>\n",
              "<style scoped>\n",
              "    .dataframe tbody tr th:only-of-type {\n",
              "        vertical-align: middle;\n",
              "    }\n",
              "\n",
              "    .dataframe tbody tr th {\n",
              "        vertical-align: top;\n",
              "    }\n",
              "\n",
              "    .dataframe thead th {\n",
              "        text-align: right;\n",
              "    }\n",
              "</style>\n",
              "<table border=\"1\" class=\"dataframe\">\n",
              "  <thead>\n",
              "    <tr style=\"text-align: right;\">\n",
              "      <th></th>\n",
              "      <th>Close</th>\n",
              "      <th>Actual Returns</th>\n",
              "    </tr>\n",
              "    <tr>\n",
              "      <th>Date</th>\n",
              "      <th></th>\n",
              "      <th></th>\n",
              "    </tr>\n",
              "  </thead>\n",
              "  <tbody>\n",
              "    <tr>\n",
              "      <th>2018-01-01</th>\n",
              "      <td>772.640991</td>\n",
              "      <td>0.021022</td>\n",
              "    </tr>\n",
              "    <tr>\n",
              "      <th>2018-01-02</th>\n",
              "      <td>884.443970</td>\n",
              "      <td>0.144702</td>\n",
              "    </tr>\n",
              "    <tr>\n",
              "      <th>2018-01-03</th>\n",
              "      <td>962.719971</td>\n",
              "      <td>0.088503</td>\n",
              "    </tr>\n",
              "    <tr>\n",
              "      <th>2018-01-04</th>\n",
              "      <td>980.921997</td>\n",
              "      <td>0.018907</td>\n",
              "    </tr>\n",
              "    <tr>\n",
              "      <th>2018-01-05</th>\n",
              "      <td>997.719971</td>\n",
              "      <td>0.017125</td>\n",
              "    </tr>\n",
              "  </tbody>\n",
              "</table>\n",
              "</div>"
            ],
            "text/plain": [
              "                 Close  Actual Returns\n",
              "Date                                  \n",
              "2018-01-01  772.640991        0.021022\n",
              "2018-01-02  884.443970        0.144702\n",
              "2018-01-03  962.719971        0.088503\n",
              "2018-01-04  980.921997        0.018907\n",
              "2018-01-05  997.719971        0.017125"
            ]
          },
          "metadata": {},
          "output_type": "display_data"
        },
        {
          "data": {
            "text/html": [
              "<div>\n",
              "<style scoped>\n",
              "    .dataframe tbody tr th:only-of-type {\n",
              "        vertical-align: middle;\n",
              "    }\n",
              "\n",
              "    .dataframe tbody tr th {\n",
              "        vertical-align: top;\n",
              "    }\n",
              "\n",
              "    .dataframe thead th {\n",
              "        text-align: right;\n",
              "    }\n",
              "</style>\n",
              "<table border=\"1\" class=\"dataframe\">\n",
              "  <thead>\n",
              "    <tr style=\"text-align: right;\">\n",
              "      <th></th>\n",
              "      <th>Close</th>\n",
              "      <th>Actual Returns</th>\n",
              "    </tr>\n",
              "    <tr>\n",
              "      <th>Date</th>\n",
              "      <th></th>\n",
              "      <th></th>\n",
              "    </tr>\n",
              "  </thead>\n",
              "  <tbody>\n",
              "    <tr>\n",
              "      <th>2018-01-01</th>\n",
              "      <td>229.033005</td>\n",
              "      <td>-0.013197</td>\n",
              "    </tr>\n",
              "    <tr>\n",
              "      <th>2018-01-02</th>\n",
              "      <td>255.684006</td>\n",
              "      <td>0.116363</td>\n",
              "    </tr>\n",
              "    <tr>\n",
              "      <th>2018-01-03</th>\n",
              "      <td>245.367996</td>\n",
              "      <td>-0.040347</td>\n",
              "    </tr>\n",
              "    <tr>\n",
              "      <th>2018-01-04</th>\n",
              "      <td>241.369995</td>\n",
              "      <td>-0.016294</td>\n",
              "    </tr>\n",
              "    <tr>\n",
              "      <th>2018-01-05</th>\n",
              "      <td>249.270996</td>\n",
              "      <td>0.032734</td>\n",
              "    </tr>\n",
              "  </tbody>\n",
              "</table>\n",
              "</div>"
            ],
            "text/plain": [
              "                 Close  Actual Returns\n",
              "Date                                  \n",
              "2018-01-01  229.033005       -0.013197\n",
              "2018-01-02  255.684006        0.116363\n",
              "2018-01-03  245.367996       -0.040347\n",
              "2018-01-04  241.369995       -0.016294\n",
              "2018-01-05  249.270996        0.032734"
            ]
          },
          "metadata": {},
          "output_type": "display_data"
        },
        {
          "data": {
            "text/html": [
              "<div>\n",
              "<style scoped>\n",
              "    .dataframe tbody tr th:only-of-type {\n",
              "        vertical-align: middle;\n",
              "    }\n",
              "\n",
              "    .dataframe tbody tr th {\n",
              "        vertical-align: top;\n",
              "    }\n",
              "\n",
              "    .dataframe thead th {\n",
              "        text-align: right;\n",
              "    }\n",
              "</style>\n",
              "<table border=\"1\" class=\"dataframe\">\n",
              "  <thead>\n",
              "    <tr style=\"text-align: right;\">\n",
              "      <th></th>\n",
              "      <th>Close</th>\n",
              "      <th>Actual Returns</th>\n",
              "    </tr>\n",
              "    <tr>\n",
              "      <th>Date</th>\n",
              "      <th></th>\n",
              "      <th></th>\n",
              "    </tr>\n",
              "  </thead>\n",
              "  <tbody>\n",
              "    <tr>\n",
              "      <th>2018-01-01</th>\n",
              "      <td>2432.540039</td>\n",
              "      <td>-0.039664</td>\n",
              "    </tr>\n",
              "    <tr>\n",
              "      <th>2018-01-02</th>\n",
              "      <td>2711.000000</td>\n",
              "      <td>0.114473</td>\n",
              "    </tr>\n",
              "    <tr>\n",
              "      <th>2018-01-03</th>\n",
              "      <td>2608.689941</td>\n",
              "      <td>-0.037739</td>\n",
              "    </tr>\n",
              "    <tr>\n",
              "      <th>2018-01-04</th>\n",
              "      <td>2430.179932</td>\n",
              "      <td>-0.068429</td>\n",
              "    </tr>\n",
              "    <tr>\n",
              "      <th>2018-01-05</th>\n",
              "      <td>2584.479980</td>\n",
              "      <td>0.063493</td>\n",
              "    </tr>\n",
              "  </tbody>\n",
              "</table>\n",
              "</div>"
            ],
            "text/plain": [
              "                  Close  Actual Returns\n",
              "Date                                   \n",
              "2018-01-01  2432.540039       -0.039664\n",
              "2018-01-02  2711.000000        0.114473\n",
              "2018-01-03  2608.689941       -0.037739\n",
              "2018-01-04  2430.179932       -0.068429\n",
              "2018-01-05  2584.479980        0.063493"
            ]
          },
          "metadata": {},
          "output_type": "display_data"
        }
      ],
      "source": [
        "# use pct_change function to get actual returns and dropna\n",
        "\n",
        "btc_signals_df[\"Actual Returns\"]=btc_signals_df[\"Close\"].pct_change()\n",
        "eth_signals_df[\"Actual Returns\"]=eth_signals_df[\"Close\"].pct_change()\n",
        "ltc_signals_df[\"Actual Returns\"]=ltc_signals_df[\"Close\"].pct_change()\n",
        "bch_signals_df[\"Actual Returns\"]=bch_signals_df[\"Close\"].pct_change()\n",
        "\n",
        "btc_signals_df=btc_signals_df.dropna()\n",
        "eth_signals_df=eth_signals_df.dropna()\n",
        "ltc_signals_df=ltc_signals_df.dropna()\n",
        "bch_signals_df=bch_signals_df.dropna()\n",
        "\n",
        "display(btc_signals_df.head())\n",
        "display(eth_signals_df.head())\n",
        "display(ltc_signals_df.head())\n",
        "display(bch_signals_df.head())"
      ]
    },
    {
      "cell_type": "code",
      "execution_count": 9,
      "id": "9b12680d-89aa-4f04-90f2-cefde3a1d8f4",
      "metadata": {
        "id": "9b12680d-89aa-4f04-90f2-cefde3a1d8f4"
      },
      "outputs": [],
      "source": [
        "# Set the short window and long window\n",
        "short_window = 4\n",
        "long_window = 100\n",
        "\n",
        "# Generate the fast and slow simple moving averages \n",
        "\n",
        "btc_signals_df['SMA_Fast']=btc_signals_df['Close'].rolling(window=short_window).mean()\n",
        "btc_signals_df['SMA_Slow']=btc_signals_df['Close'].rolling(window=long_window).mean()"
      ]
    },
    {
      "cell_type": "code",
      "execution_count": 85,
      "id": "9939597c-f7da-4b87-8b1e-70ec0c24f93f",
      "metadata": {
        "id": "9939597c-f7da-4b87-8b1e-70ec0c24f93f"
      },
      "outputs": [],
      "source": [
        "short_window = 10\n",
        "long_window = 100\n",
        "\n",
        "eth_signals_df['SMA_Fast']=eth_signals_df['Close'].rolling(window=short_window).mean()\n",
        "eth_signals_df['SMA_Slow']=eth_signals_df['Close'].rolling(window=long_window).mean()"
      ]
    },
    {
      "cell_type": "code",
      "execution_count": 117,
      "id": "ba9d0cae-7a3d-43d5-a5e0-a319e5743ef0",
      "metadata": {
        "id": "ba9d0cae-7a3d-43d5-a5e0-a319e5743ef0"
      },
      "outputs": [],
      "source": [
        "short_window = 20\n",
        "long_window = 100\n",
        "\n",
        "ltc_signals_df['SMA_Fast']=ltc_signals_df['Close'].rolling(window=short_window).mean()\n",
        "ltc_signals_df['SMA_Slow']=ltc_signals_df['Close'].rolling(window=long_window).mean()"
      ]
    },
    {
      "cell_type": "code",
      "execution_count": 135,
      "id": "877ddebc-1be8-4729-bff6-28d81347e839",
      "metadata": {
        "id": "877ddebc-1be8-4729-bff6-28d81347e839"
      },
      "outputs": [],
      "source": [
        "short_window = 20\n",
        "long_window = 100\n",
        "\n",
        "bch_signals_df['SMA_Fast']=bch_signals_df['Close'].rolling(window=short_window).mean()\n",
        "bch_signals_df['SMA_Slow']=bch_signals_df['Close'].rolling(window=long_window).mean()"
      ]
    },
    {
      "cell_type": "code",
      "execution_count": null,
      "id": "784db76c-1b83-4159-b11e-0e76b667f056",
      "metadata": {
        "id": "784db76c-1b83-4159-b11e-0e76b667f056"
      },
      "outputs": [],
      "source": [
        "#check your work\n",
        "display(btc_signals_df.head())\n",
        "display(eth_signals_df.head())\n",
        "display(ltc_signals_df.head())\n",
        "display(bch_signals_df.head())"
      ]
    },
    {
      "cell_type": "code",
      "execution_count": 14,
      "id": "bc9ac0e3-7765-46e0-a713-8120885b14ac",
      "metadata": {
        "id": "bc9ac0e3-7765-46e0-a713-8120885b14ac"
      },
      "outputs": [],
      "source": [
        "# add the  Signal column\n",
        "btc_signals_df['Signal']=0.0\n",
        "\n",
        "# When Actual Returns are greater than or equal to 0, generate signal to buy stock \n",
        "\n",
        "btc_signals_df.loc[(btc_signals_df['Actual Returns'] >= 0), 'Signal'] = 1\n",
        "\n",
        "# When Actual Returns are less than 0, generate signal to sell stock\n",
        "\n",
        "btc_signals_df.loc[(btc_signals_df['Actual Returns'] < 0), 'Signal'] = -1"
      ]
    },
    {
      "cell_type": "code",
      "execution_count": 86,
      "id": "6c7f4a1e-d830-4fcb-a370-999e2205ebea",
      "metadata": {
        "id": "6c7f4a1e-d830-4fcb-a370-999e2205ebea"
      },
      "outputs": [],
      "source": [
        "eth_signals_df['Signal']=0.0\n",
        "eth_signals_df.loc[(eth_signals_df['Actual Returns'] >= 0), 'Signal'] = 1\n",
        "eth_signals_df.loc[(eth_signals_df['Actual Returns'] < 0), 'Signal'] = -1"
      ]
    },
    {
      "cell_type": "code",
      "execution_count": 118,
      "id": "f041bb15-6307-43f3-abb2-e07d8df8f50c",
      "metadata": {
        "id": "f041bb15-6307-43f3-abb2-e07d8df8f50c"
      },
      "outputs": [],
      "source": [
        "ltc_signals_df['Signal']=0.0\n",
        "ltc_signals_df.loc[(ltc_signals_df['Actual Returns'] >= 0), 'Signal'] = 1\n",
        "ltc_signals_df.loc[(ltc_signals_df['Actual Returns'] < 0), 'Signal'] = -1"
      ]
    },
    {
      "cell_type": "code",
      "execution_count": 136,
      "id": "b3835eb1-6bad-4b6b-a357-b87364ee54b2",
      "metadata": {
        "id": "b3835eb1-6bad-4b6b-a357-b87364ee54b2"
      },
      "outputs": [],
      "source": [
        "bch_signals_df['Signal']=0.0\n",
        "bch_signals_df.loc[(bch_signals_df['Actual Returns'] >= 0), 'Signal'] = 1\n",
        "bch_signals_df.loc[(bch_signals_df['Actual Returns'] < 0), 'Signal'] = -1"
      ]
    },
    {
      "cell_type": "code",
      "execution_count": null,
      "id": "ccdabb50-13df-4a63-9cd5-1630a1dc17c3",
      "metadata": {
        "id": "ccdabb50-13df-4a63-9cd5-1630a1dc17c3"
      },
      "outputs": [],
      "source": [
        "# check your work\n",
        "display(btc_signals_df.head())\n",
        "display(eth_signals_df.head())\n",
        "display(ltc_signals_df.head())\n",
        "display(bch_signals_df.head())\n",
        "\n",
        "display(btc_signals_df.tail())\n",
        "display(eth_signals_df.tail())\n",
        "display(ltc_signals_df.tail())\n",
        "display(bch_signals_df.tail())"
      ]
    },
    {
      "cell_type": "code",
      "execution_count": 19,
      "id": "81cfc87c-efca-4fed-ae00-16676e232458",
      "metadata": {
        "id": "81cfc87c-efca-4fed-ae00-16676e232458"
      },
      "outputs": [],
      "source": [
        "# Add Strategy Returns column\n",
        "btc_signals_df['Strategy Returns'] = btc_signals_df['Actual Returns'] * btc_signals_df['Signal'].shift()"
      ]
    },
    {
      "cell_type": "code",
      "execution_count": 87,
      "id": "1a888af0-4122-4930-9714-e0e8519793a3",
      "metadata": {
        "id": "1a888af0-4122-4930-9714-e0e8519793a3"
      },
      "outputs": [],
      "source": [
        "eth_signals_df['Strategy Returns'] = eth_signals_df['Actual Returns'] * eth_signals_df['Signal'].shift()"
      ]
    },
    {
      "cell_type": "code",
      "execution_count": 119,
      "id": "c68ef73c-e8c1-45f6-8a12-47b4504769e8",
      "metadata": {
        "id": "c68ef73c-e8c1-45f6-8a12-47b4504769e8"
      },
      "outputs": [],
      "source": [
        "ltc_signals_df['Strategy Returns'] = ltc_signals_df['Actual Returns'] * ltc_signals_df['Signal'].shift()"
      ]
    },
    {
      "cell_type": "code",
      "execution_count": 137,
      "id": "6230e74b-33dc-4d26-b8da-f2953ec46723",
      "metadata": {
        "id": "6230e74b-33dc-4d26-b8da-f2953ec46723"
      },
      "outputs": [],
      "source": [
        "bch_signals_df['Strategy Returns'] = bch_signals_df['Actual Returns'] * bch_signals_df['Signal'].shift()"
      ]
    },
    {
      "cell_type": "code",
      "execution_count": null,
      "id": "6556c8a5-14b1-4123-bd98-dd57d30d8993",
      "metadata": {
        "id": "6556c8a5-14b1-4123-bd98-dd57d30d8993"
      },
      "outputs": [],
      "source": [
        "# check your work\n",
        "display(btc_signals_df.head())\n",
        "display(eth_signals_df.head())\n",
        "display(ltc_signals_df.head())\n",
        "display(bch_signals_df.head())\n",
        "\n",
        "display(btc_signals_df.tail())\n",
        "display(eth_signals_df.tail())\n",
        "display(ltc_signals_df.tail())\n",
        "display(bch_signals_df.tail())"
      ]
    },
    {
      "cell_type": "code",
      "execution_count": 24,
      "id": "5e40ba3d-6739-492b-89b2-aecfef260994",
      "metadata": {
        "id": "5e40ba3d-6739-492b-89b2-aecfef260994"
      },
      "outputs": [],
      "source": [
        "# create X and y variables\n",
        "btc_X = btc_signals_df[['SMA_Fast', 'SMA_Slow']].shift().dropna()\n",
        "btc_y = btc_signals_df['Signal']"
      ]
    },
    {
      "cell_type": "code",
      "execution_count": 88,
      "id": "9d4b3175-df54-4674-ab21-ff6d033ce869",
      "metadata": {
        "id": "9d4b3175-df54-4674-ab21-ff6d033ce869"
      },
      "outputs": [],
      "source": [
        "eth_X = eth_signals_df[['SMA_Fast', 'SMA_Slow']].shift().dropna()\n",
        "eth_y = eth_signals_df['Signal']"
      ]
    },
    {
      "cell_type": "code",
      "execution_count": 120,
      "id": "c582f9ed-5492-4bab-afa0-cb2470d53136",
      "metadata": {
        "id": "c582f9ed-5492-4bab-afa0-cb2470d53136"
      },
      "outputs": [],
      "source": [
        "ltc_X = ltc_signals_df[['SMA_Fast', 'SMA_Slow']].shift().dropna()\n",
        "ltc_y = ltc_signals_df['Signal']"
      ]
    },
    {
      "cell_type": "code",
      "execution_count": 138,
      "id": "3cb0107c-0cc3-491b-9446-16a9519426ec",
      "metadata": {
        "id": "3cb0107c-0cc3-491b-9446-16a9519426ec"
      },
      "outputs": [],
      "source": [
        "bch_X = bch_signals_df[['SMA_Fast', 'SMA_Slow']].shift().dropna()\n",
        "bch_y = bch_signals_df['Signal']"
      ]
    },
    {
      "cell_type": "code",
      "execution_count": 28,
      "id": "077d963b-00f7-4428-b9d7-2d41428da23c",
      "metadata": {
        "id": "077d963b-00f7-4428-b9d7-2d41428da23c"
      },
      "outputs": [],
      "source": [
        "# set training start and end times\n",
        "btc_training_begin = btc_X.index.min()\n",
        "btc_training_end = btc_X.index.min() + DateOffset(months=4)"
      ]
    },
    {
      "cell_type": "code",
      "execution_count": 89,
      "id": "f17d39b2-2209-4cc0-9a5c-12b0738239da",
      "metadata": {
        "id": "f17d39b2-2209-4cc0-9a5c-12b0738239da"
      },
      "outputs": [],
      "source": [
        "eth_training_begin = eth_X.index.min()\n",
        "eth_training_end = eth_X.index.min() + DateOffset(months=2)"
      ]
    },
    {
      "cell_type": "code",
      "execution_count": 128,
      "id": "0faba442-e524-4eeb-80b9-8f41107d1ed5",
      "metadata": {
        "id": "0faba442-e524-4eeb-80b9-8f41107d1ed5"
      },
      "outputs": [],
      "source": [
        "ltc_training_begin = ltc_X.index.min()\n",
        "ltc_training_end = ltc_X.index.min() + DateOffset(months=2)"
      ]
    },
    {
      "cell_type": "code",
      "execution_count": 150,
      "id": "a1564072-5eda-4878-9561-3b3d227349c0",
      "metadata": {
        "id": "a1564072-5eda-4878-9561-3b3d227349c0"
      },
      "outputs": [],
      "source": [
        "bch_training_begin = bch_X.index.min()\n",
        "bch_training_end = bch_X.index.min() + DateOffset(months=1)"
      ]
    },
    {
      "cell_type": "code",
      "execution_count": 32,
      "id": "4d3638a1-1eeb-4b63-8180-addaebb265ee",
      "metadata": {
        "id": "4d3638a1-1eeb-4b63-8180-addaebb265ee"
      },
      "outputs": [],
      "source": [
        "# create train and test variables\n",
        "btc_X_train = btc_X.loc[btc_training_begin:btc_training_end]\n",
        "btc_y_train = btc_y.loc[btc_training_begin:btc_training_end]\n",
        "\n",
        "btc_X_test = btc_X.loc[btc_training_end+DateOffset(hours=1):]\n",
        "btc_y_test = btc_y.loc[btc_training_end+DateOffset(hours=1):]"
      ]
    },
    {
      "cell_type": "code",
      "execution_count": 90,
      "id": "b26130ea-9e4c-4d69-8b12-10233202f98d",
      "metadata": {
        "id": "b26130ea-9e4c-4d69-8b12-10233202f98d"
      },
      "outputs": [],
      "source": [
        "eth_X_train = eth_X.loc[eth_training_begin:eth_training_end]\n",
        "eth_y_train = eth_y.loc[eth_training_begin:eth_training_end]\n",
        "\n",
        "eth_X_test = eth_X.loc[eth_training_end+DateOffset(hours=1):]\n",
        "eth_y_test = eth_y.loc[eth_training_end+DateOffset(hours=1):]"
      ]
    },
    {
      "cell_type": "code",
      "execution_count": 129,
      "id": "06818530-28cd-4368-8a1e-67aa26bd7ad7",
      "metadata": {
        "id": "06818530-28cd-4368-8a1e-67aa26bd7ad7"
      },
      "outputs": [],
      "source": [
        "ltc_X_train = ltc_X.loc[ltc_training_begin:ltc_training_end]\n",
        "ltc_y_train = ltc_y.loc[ltc_training_begin:ltc_training_end]\n",
        "\n",
        "ltc_X_test = ltc_X.loc[ltc_training_end+DateOffset(hours=1):]\n",
        "ltc_y_test = ltc_y.loc[ltc_training_end+DateOffset(hours=1):]"
      ]
    },
    {
      "cell_type": "code",
      "execution_count": 151,
      "id": "35064583-d975-4c3d-95fd-65c2904de8a9",
      "metadata": {
        "id": "35064583-d975-4c3d-95fd-65c2904de8a9"
      },
      "outputs": [],
      "source": [
        "bch_X_train = bch_X.loc[bch_training_begin:bch_training_end]\n",
        "bch_y_train = bch_y.loc[bch_training_begin:bch_training_end]\n",
        "\n",
        "bch_X_test = bch_X.loc[bch_training_end+DateOffset(hours=1):]\n",
        "bch_y_test = bch_y.loc[bch_training_end+DateOffset(hours=1):]"
      ]
    },
    {
      "cell_type": "code",
      "execution_count": 36,
      "id": "89694ad6-f216-4a15-bf1a-ea4a3c73ecd8",
      "metadata": {
        "id": "89694ad6-f216-4a15-bf1a-ea4a3c73ecd8"
      },
      "outputs": [],
      "source": [
        "# scale the features\n",
        "btc_scaler = StandardScaler()\n",
        "btc_X_scaler = btc_scaler.fit(btc_X_train)\n",
        "btc_X_train_scaled = btc_X_scaler.transform(btc_X_train)\n",
        "btc_X_test_scaled = btc_X_scaler.transform(btc_X_test)"
      ]
    },
    {
      "cell_type": "code",
      "execution_count": 91,
      "id": "073463aa-47f2-4e2e-a03b-d69ef6e7875b",
      "metadata": {
        "id": "073463aa-47f2-4e2e-a03b-d69ef6e7875b"
      },
      "outputs": [],
      "source": [
        "eth_scaler = StandardScaler()\n",
        "eth_X_scaler = eth_scaler.fit(eth_X_train)\n",
        "eth_X_train_scaled = eth_X_scaler.transform(eth_X_train)\n",
        "eth_X_test_scaled = eth_X_scaler.transform(eth_X_test)"
      ]
    },
    {
      "cell_type": "code",
      "execution_count": 130,
      "id": "cc1f1cd5-142e-4110-a580-a9a5eccd3704",
      "metadata": {
        "id": "cc1f1cd5-142e-4110-a580-a9a5eccd3704"
      },
      "outputs": [],
      "source": [
        "ltc_scaler = StandardScaler()\n",
        "ltc_X_scaler = ltc_scaler.fit(ltc_X_train)\n",
        "ltc_X_train_scaled = ltc_X_scaler.transform(ltc_X_train)\n",
        "ltc_X_test_scaled = ltc_X_scaler.transform(ltc_X_test)"
      ]
    },
    {
      "cell_type": "code",
      "execution_count": 152,
      "id": "42cbddaa-cb62-4e5a-8ee6-86ed3607d5ca",
      "metadata": {
        "id": "42cbddaa-cb62-4e5a-8ee6-86ed3607d5ca"
      },
      "outputs": [],
      "source": [
        "bch_scaler = StandardScaler()\n",
        "bch_X_scaler = bch_scaler.fit(bch_X_train)\n",
        "bch_X_train_scaled = bch_X_scaler.transform(bch_X_train)\n",
        "bch_X_test_scaled = bch_X_scaler.transform(bch_X_test)"
      ]
    },
    {
      "cell_type": "code",
      "execution_count": 40,
      "id": "12f3b1e8-b4db-47dc-8fb5-4204fa863d12",
      "metadata": {
        "colab": {
          "base_uri": "https://localhost:8080/"
        },
        "id": "12f3b1e8-b4db-47dc-8fb5-4204fa863d12",
        "outputId": "3eb98c88-99b3-4ff8-dce9-c34f285abf50"
      },
      "outputs": [
        {
          "data": {
            "text/plain": [
              "array([1., 1., 1., ..., 1., 1., 1.])"
            ]
          },
          "execution_count": 40,
          "metadata": {},
          "output_type": "execute_result"
        }
      ],
      "source": [
        "# use SKLearn SVC classifier to fit and predict\n",
        "btc_model = svm.SVC()\n",
        "btc_model = btc_model.fit(btc_X_train_scaled, btc_y_train)\n",
        "btc_pred = btc_model.predict(btc_X_test_scaled)\n",
        "btc_pred"
      ]
    },
    {
      "cell_type": "code",
      "execution_count": 92,
      "id": "RRjIa92uPHTh",
      "metadata": {
        "colab": {
          "base_uri": "https://localhost:8080/"
        },
        "id": "RRjIa92uPHTh",
        "outputId": "6dcb5e86-a167-4d33-e430-365100b4ef4c"
      },
      "outputs": [
        {
          "data": {
            "text/plain": [
              "array([-1., -1., -1., ...,  1.,  1.,  1.])"
            ]
          },
          "execution_count": 92,
          "metadata": {},
          "output_type": "execute_result"
        }
      ],
      "source": [
        "eth_model = svm.SVC()\n",
        "eth_model = eth_model.fit(eth_X_train_scaled, eth_y_train)\n",
        "eth_pred = eth_model.predict(eth_X_test_scaled)\n",
        "eth_pred"
      ]
    },
    {
      "cell_type": "code",
      "execution_count": 131,
      "id": "omF56u1iPHc2",
      "metadata": {
        "colab": {
          "base_uri": "https://localhost:8080/"
        },
        "id": "omF56u1iPHc2",
        "outputId": "93c0c0b3-6252-4303-ca3f-eeb286c4ad1c"
      },
      "outputs": [
        {
          "data": {
            "text/plain": [
              "array([ 1., -1., -1., ...,  1.,  1.,  1.])"
            ]
          },
          "execution_count": 131,
          "metadata": {},
          "output_type": "execute_result"
        }
      ],
      "source": [
        "ltc_model = svm.SVC()\n",
        "ltc_model = ltc_model.fit(ltc_X_train_scaled, ltc_y_train)\n",
        "ltc_pred = ltc_model.predict(ltc_X_test_scaled)\n",
        "ltc_pred"
      ]
    },
    {
      "cell_type": "code",
      "execution_count": 153,
      "id": "6jYpxTlSPHrs",
      "metadata": {
        "colab": {
          "base_uri": "https://localhost:8080/"
        },
        "id": "6jYpxTlSPHrs",
        "outputId": "bbe17f8b-c6c5-439f-b18f-6f2296cda6ac"
      },
      "outputs": [
        {
          "data": {
            "text/plain": [
              "array([-1., -1., -1., ...,  1.,  1.,  1.])"
            ]
          },
          "execution_count": 153,
          "metadata": {},
          "output_type": "execute_result"
        }
      ],
      "source": [
        "bch_model = svm.SVC()\n",
        "bch_model = bch_model.fit(bch_X_train_scaled, bch_y_train)\n",
        "bch_pred = bch_model.predict(bch_X_test_scaled)\n",
        "bch_pred"
      ]
    },
    {
      "cell_type": "code",
      "execution_count": 93,
      "id": "r6oEuPA2l27c",
      "metadata": {
        "colab": {
          "base_uri": "https://localhost:8080/"
        },
        "id": "r6oEuPA2l27c",
        "outputId": "90984ab5-fb1a-4e55-dbb8-ba55cb846d40"
      },
      "outputs": [
        {
          "name": "stdout",
          "output_type": "stream",
          "text": [
            "              precision    recall  f1-score   support\n",
            "\n",
            "        -1.0       0.48      0.19      0.27       565\n",
            "         1.0       0.53      0.82      0.65       639\n",
            "\n",
            "    accuracy                           0.52      1204\n",
            "   macro avg       0.50      0.50      0.46      1204\n",
            "weighted avg       0.51      0.52      0.47      1204\n",
            "\n"
          ]
        }
      ],
      "source": [
        "# review the classification report\n",
        "btc_testing_report = classification_report(btc_y_test, btc_pred)\n",
        "print(btc_testing_report)"
      ]
    },
    {
      "cell_type": "code",
      "execution_count": 94,
      "id": "RllctAixl3Go",
      "metadata": {
        "colab": {
          "base_uri": "https://localhost:8080/"
        },
        "id": "RllctAixl3Go",
        "outputId": "75f5cfa3-b19c-477d-8714-98ce5963c8b4"
      },
      "outputs": [
        {
          "name": "stdout",
          "output_type": "stream",
          "text": [
            "              precision    recall  f1-score   support\n",
            "\n",
            "        -1.0       0.49      0.06      0.10       601\n",
            "         1.0       0.53      0.94      0.68       664\n",
            "\n",
            "    accuracy                           0.52      1265\n",
            "   macro avg       0.51      0.50      0.39      1265\n",
            "weighted avg       0.51      0.52      0.40      1265\n",
            "\n"
          ]
        }
      ],
      "source": [
        "eth_testing_report = classification_report(eth_y_test, eth_pred)\n",
        "print(eth_testing_report)"
      ]
    },
    {
      "cell_type": "code",
      "execution_count": 132,
      "id": "yhhSpQMpl3QP",
      "metadata": {
        "colab": {
          "base_uri": "https://localhost:8080/"
        },
        "id": "yhhSpQMpl3QP",
        "outputId": "7367213d-b6a2-4ade-eeac-22ead98b2eef"
      },
      "outputs": [
        {
          "name": "stdout",
          "output_type": "stream",
          "text": [
            "              precision    recall  f1-score   support\n",
            "\n",
            "        -1.0       0.44      0.03      0.05       627\n",
            "         1.0       0.50      0.97      0.66       638\n",
            "\n",
            "    accuracy                           0.50      1265\n",
            "   macro avg       0.47      0.50      0.36      1265\n",
            "weighted avg       0.47      0.50      0.36      1265\n",
            "\n"
          ]
        }
      ],
      "source": [
        "ltc_testing_report = classification_report(ltc_y_test, ltc_pred)\n",
        "print(ltc_testing_report)"
      ]
    },
    {
      "cell_type": "code",
      "execution_count": 156,
      "id": "PevSQGLUl3Z4",
      "metadata": {
        "colab": {
          "base_uri": "https://localhost:8080/"
        },
        "id": "PevSQGLUl3Z4",
        "outputId": "7689a535-5a87-4030-8e9d-7b2e21dc1b8e"
      },
      "outputs": [
        {
          "name": "stdout",
          "output_type": "stream",
          "text": [
            "              precision    recall  f1-score   support\n",
            "\n",
            "        -1.0       0.62      0.01      0.02       662\n",
            "         1.0       0.49      0.99      0.66       634\n",
            "\n",
            "    accuracy                           0.49      1296\n",
            "   macro avg       0.55      0.50      0.34      1296\n",
            "weighted avg       0.55      0.49      0.33      1296\n",
            "\n"
          ]
        }
      ],
      "source": [
        "bch_testing_report = classification_report(bch_y_test, bch_pred)\n",
        "print(bch_testing_report)"
      ]
    },
    {
      "cell_type": "code",
      "execution_count": 50,
      "id": "v5BCdHQfmn8c",
      "metadata": {
        "colab": {
          "base_uri": "https://localhost:8080/",
          "height": 458
        },
        "id": "v5BCdHQfmn8c",
        "outputId": "f7504645-d2a1-4696-e34c-aba3e254db65"
      },
      "outputs": [
        {
          "data": {
            "text/html": [
              "<div>\n",
              "<style scoped>\n",
              "    .dataframe tbody tr th:only-of-type {\n",
              "        vertical-align: middle;\n",
              "    }\n",
              "\n",
              "    .dataframe tbody tr th {\n",
              "        vertical-align: top;\n",
              "    }\n",
              "\n",
              "    .dataframe thead th {\n",
              "        text-align: right;\n",
              "    }\n",
              "</style>\n",
              "<table border=\"1\" class=\"dataframe\">\n",
              "  <thead>\n",
              "    <tr style=\"text-align: right;\">\n",
              "      <th></th>\n",
              "      <th>Predicted</th>\n",
              "      <th>Actual Returns</th>\n",
              "      <th>Strategy Returns</th>\n",
              "    </tr>\n",
              "    <tr>\n",
              "      <th>Date</th>\n",
              "      <th></th>\n",
              "      <th></th>\n",
              "      <th></th>\n",
              "    </tr>\n",
              "  </thead>\n",
              "  <tbody>\n",
              "    <tr>\n",
              "      <th>2018-08-12</th>\n",
              "      <td>1.0</td>\n",
              "      <td>0.004282</td>\n",
              "      <td>0.004282</td>\n",
              "    </tr>\n",
              "    <tr>\n",
              "      <th>2018-08-13</th>\n",
              "      <td>1.0</td>\n",
              "      <td>-0.003973</td>\n",
              "      <td>-0.003973</td>\n",
              "    </tr>\n",
              "    <tr>\n",
              "      <th>2018-08-14</th>\n",
              "      <td>1.0</td>\n",
              "      <td>-0.015539</td>\n",
              "      <td>-0.015539</td>\n",
              "    </tr>\n",
              "    <tr>\n",
              "      <th>2018-08-15</th>\n",
              "      <td>1.0</td>\n",
              "      <td>0.017551</td>\n",
              "      <td>0.017551</td>\n",
              "    </tr>\n",
              "    <tr>\n",
              "      <th>2018-08-16</th>\n",
              "      <td>1.0</td>\n",
              "      <td>0.004155</td>\n",
              "      <td>0.004155</td>\n",
              "    </tr>\n",
              "  </tbody>\n",
              "</table>\n",
              "</div>"
            ],
            "text/plain": [
              "            Predicted  Actual Returns  Strategy Returns\n",
              "Date                                                   \n",
              "2018-08-12        1.0        0.004282          0.004282\n",
              "2018-08-13        1.0       -0.003973         -0.003973\n",
              "2018-08-14        1.0       -0.015539         -0.015539\n",
              "2018-08-15        1.0        0.017551          0.017551\n",
              "2018-08-16        1.0        0.004155          0.004155"
            ]
          },
          "metadata": {},
          "output_type": "display_data"
        },
        {
          "data": {
            "text/html": [
              "<div>\n",
              "<style scoped>\n",
              "    .dataframe tbody tr th:only-of-type {\n",
              "        vertical-align: middle;\n",
              "    }\n",
              "\n",
              "    .dataframe tbody tr th {\n",
              "        vertical-align: top;\n",
              "    }\n",
              "\n",
              "    .dataframe thead th {\n",
              "        text-align: right;\n",
              "    }\n",
              "</style>\n",
              "<table border=\"1\" class=\"dataframe\">\n",
              "  <thead>\n",
              "    <tr style=\"text-align: right;\">\n",
              "      <th></th>\n",
              "      <th>Predicted</th>\n",
              "      <th>Actual Returns</th>\n",
              "      <th>Strategy Returns</th>\n",
              "    </tr>\n",
              "    <tr>\n",
              "      <th>Date</th>\n",
              "      <th></th>\n",
              "      <th></th>\n",
              "      <th></th>\n",
              "    </tr>\n",
              "  </thead>\n",
              "  <tbody>\n",
              "    <tr>\n",
              "      <th>2021-11-27</th>\n",
              "      <td>1.0</td>\n",
              "      <td>0.023247</td>\n",
              "      <td>0.023247</td>\n",
              "    </tr>\n",
              "    <tr>\n",
              "      <th>2021-11-28</th>\n",
              "      <td>1.0</td>\n",
              "      <td>0.044393</td>\n",
              "      <td>0.044393</td>\n",
              "    </tr>\n",
              "    <tr>\n",
              "      <th>2021-11-29</th>\n",
              "      <td>1.0</td>\n",
              "      <td>0.009749</td>\n",
              "      <td>0.009749</td>\n",
              "    </tr>\n",
              "    <tr>\n",
              "      <th>2021-11-30</th>\n",
              "      <td>1.0</td>\n",
              "      <td>-0.013859</td>\n",
              "      <td>-0.013859</td>\n",
              "    </tr>\n",
              "    <tr>\n",
              "      <th>2021-12-01</th>\n",
              "      <td>1.0</td>\n",
              "      <td>0.003937</td>\n",
              "      <td>0.003937</td>\n",
              "    </tr>\n",
              "  </tbody>\n",
              "</table>\n",
              "</div>"
            ],
            "text/plain": [
              "            Predicted  Actual Returns  Strategy Returns\n",
              "Date                                                   \n",
              "2021-11-27        1.0        0.023247          0.023247\n",
              "2021-11-28        1.0        0.044393          0.044393\n",
              "2021-11-29        1.0        0.009749          0.009749\n",
              "2021-11-30        1.0       -0.013859         -0.013859\n",
              "2021-12-01        1.0        0.003937          0.003937"
            ]
          },
          "metadata": {},
          "output_type": "display_data"
        }
      ],
      "source": [
        "# Create a new data frame to compare Actual Returns and Strategy Returns\n",
        "btc_predictions_df = pd.DataFrame(index=btc_X_test.index)\n",
        "btc_predictions_df['Predicted'] = btc_pred\n",
        "btc_predictions_df['Actual Returns'] = btc_signals_df['Actual Returns']\n",
        "btc_predictions_df['Strategy Returns'] = (\n",
        "    btc_predictions_df['Actual Returns'] * btc_predictions_df['Predicted'])\n",
        "display(btc_predictions_df.head())\n",
        "display(btc_predictions_df.tail())"
      ]
    },
    {
      "cell_type": "code",
      "execution_count": 95,
      "id": "BY8RHOpPmoEw",
      "metadata": {
        "colab": {
          "base_uri": "https://localhost:8080/",
          "height": 458
        },
        "id": "BY8RHOpPmoEw",
        "outputId": "6386dbc4-fc37-4eed-c423-0c1778e40eb1"
      },
      "outputs": [
        {
          "data": {
            "text/html": [
              "<div>\n",
              "<style scoped>\n",
              "    .dataframe tbody tr th:only-of-type {\n",
              "        vertical-align: middle;\n",
              "    }\n",
              "\n",
              "    .dataframe tbody tr th {\n",
              "        vertical-align: top;\n",
              "    }\n",
              "\n",
              "    .dataframe thead th {\n",
              "        text-align: right;\n",
              "    }\n",
              "</style>\n",
              "<table border=\"1\" class=\"dataframe\">\n",
              "  <thead>\n",
              "    <tr style=\"text-align: right;\">\n",
              "      <th></th>\n",
              "      <th>Predicted</th>\n",
              "      <th>Actual Returns</th>\n",
              "      <th>Strategy Returns</th>\n",
              "    </tr>\n",
              "    <tr>\n",
              "      <th>Date</th>\n",
              "      <th></th>\n",
              "      <th></th>\n",
              "      <th></th>\n",
              "    </tr>\n",
              "  </thead>\n",
              "  <tbody>\n",
              "    <tr>\n",
              "      <th>2018-06-12</th>\n",
              "      <td>-1.0</td>\n",
              "      <td>-0.068333</td>\n",
              "      <td>0.068333</td>\n",
              "    </tr>\n",
              "    <tr>\n",
              "      <th>2018-06-13</th>\n",
              "      <td>-1.0</td>\n",
              "      <td>-0.038944</td>\n",
              "      <td>0.038944</td>\n",
              "    </tr>\n",
              "    <tr>\n",
              "      <th>2018-06-14</th>\n",
              "      <td>-1.0</td>\n",
              "      <td>0.088479</td>\n",
              "      <td>-0.088479</td>\n",
              "    </tr>\n",
              "    <tr>\n",
              "      <th>2018-06-15</th>\n",
              "      <td>-1.0</td>\n",
              "      <td>-0.055293</td>\n",
              "      <td>0.055293</td>\n",
              "    </tr>\n",
              "    <tr>\n",
              "      <th>2018-06-16</th>\n",
              "      <td>-1.0</td>\n",
              "      <td>0.017593</td>\n",
              "      <td>-0.017593</td>\n",
              "    </tr>\n",
              "  </tbody>\n",
              "</table>\n",
              "</div>"
            ],
            "text/plain": [
              "            Predicted  Actual Returns  Strategy Returns\n",
              "Date                                                   \n",
              "2018-06-12       -1.0       -0.068333          0.068333\n",
              "2018-06-13       -1.0       -0.038944          0.038944\n",
              "2018-06-14       -1.0        0.088479         -0.088479\n",
              "2018-06-15       -1.0       -0.055293          0.055293\n",
              "2018-06-16       -1.0        0.017593         -0.017593"
            ]
          },
          "metadata": {},
          "output_type": "display_data"
        },
        {
          "data": {
            "text/html": [
              "<div>\n",
              "<style scoped>\n",
              "    .dataframe tbody tr th:only-of-type {\n",
              "        vertical-align: middle;\n",
              "    }\n",
              "\n",
              "    .dataframe tbody tr th {\n",
              "        vertical-align: top;\n",
              "    }\n",
              "\n",
              "    .dataframe thead th {\n",
              "        text-align: right;\n",
              "    }\n",
              "</style>\n",
              "<table border=\"1\" class=\"dataframe\">\n",
              "  <thead>\n",
              "    <tr style=\"text-align: right;\">\n",
              "      <th></th>\n",
              "      <th>Predicted</th>\n",
              "      <th>Actual Returns</th>\n",
              "      <th>Strategy Returns</th>\n",
              "    </tr>\n",
              "    <tr>\n",
              "      <th>Date</th>\n",
              "      <th></th>\n",
              "      <th></th>\n",
              "      <th></th>\n",
              "    </tr>\n",
              "  </thead>\n",
              "  <tbody>\n",
              "    <tr>\n",
              "      <th>2021-11-27</th>\n",
              "      <td>1.0</td>\n",
              "      <td>0.016374</td>\n",
              "      <td>0.016374</td>\n",
              "    </tr>\n",
              "    <tr>\n",
              "      <th>2021-11-28</th>\n",
              "      <td>1.0</td>\n",
              "      <td>0.048217</td>\n",
              "      <td>0.048217</td>\n",
              "    </tr>\n",
              "    <tr>\n",
              "      <th>2021-11-29</th>\n",
              "      <td>1.0</td>\n",
              "      <td>0.035080</td>\n",
              "      <td>0.035080</td>\n",
              "    </tr>\n",
              "    <tr>\n",
              "      <th>2021-11-30</th>\n",
              "      <td>1.0</td>\n",
              "      <td>0.041928</td>\n",
              "      <td>0.041928</td>\n",
              "    </tr>\n",
              "    <tr>\n",
              "      <th>2021-12-01</th>\n",
              "      <td>1.0</td>\n",
              "      <td>-0.009606</td>\n",
              "      <td>-0.009606</td>\n",
              "    </tr>\n",
              "  </tbody>\n",
              "</table>\n",
              "</div>"
            ],
            "text/plain": [
              "            Predicted  Actual Returns  Strategy Returns\n",
              "Date                                                   \n",
              "2021-11-27        1.0        0.016374          0.016374\n",
              "2021-11-28        1.0        0.048217          0.048217\n",
              "2021-11-29        1.0        0.035080          0.035080\n",
              "2021-11-30        1.0        0.041928          0.041928\n",
              "2021-12-01        1.0       -0.009606         -0.009606"
            ]
          },
          "metadata": {},
          "output_type": "display_data"
        }
      ],
      "source": [
        "eth_predictions_df = pd.DataFrame(index=eth_X_test.index)\n",
        "eth_predictions_df['Predicted'] = eth_pred\n",
        "eth_predictions_df['Actual Returns'] = eth_signals_df['Actual Returns']\n",
        "eth_predictions_df['Strategy Returns'] = (\n",
        "    eth_predictions_df['Actual Returns'] * eth_predictions_df['Predicted'])\n",
        "display(eth_predictions_df.head())\n",
        "display(eth_predictions_df.tail())"
      ]
    },
    {
      "cell_type": "code",
      "execution_count": 133,
      "id": "C8lXDl7GmoMR",
      "metadata": {
        "colab": {
          "base_uri": "https://localhost:8080/",
          "height": 458
        },
        "id": "C8lXDl7GmoMR",
        "outputId": "ed1aff53-164d-4534-8e16-a33c10241108"
      },
      "outputs": [
        {
          "data": {
            "text/html": [
              "<div>\n",
              "<style scoped>\n",
              "    .dataframe tbody tr th:only-of-type {\n",
              "        vertical-align: middle;\n",
              "    }\n",
              "\n",
              "    .dataframe tbody tr th {\n",
              "        vertical-align: top;\n",
              "    }\n",
              "\n",
              "    .dataframe thead th {\n",
              "        text-align: right;\n",
              "    }\n",
              "</style>\n",
              "<table border=\"1\" class=\"dataframe\">\n",
              "  <thead>\n",
              "    <tr style=\"text-align: right;\">\n",
              "      <th></th>\n",
              "      <th>Predicted</th>\n",
              "      <th>Actual Returns</th>\n",
              "      <th>Strategy Returns</th>\n",
              "    </tr>\n",
              "    <tr>\n",
              "      <th>Date</th>\n",
              "      <th></th>\n",
              "      <th></th>\n",
              "      <th></th>\n",
              "    </tr>\n",
              "  </thead>\n",
              "  <tbody>\n",
              "    <tr>\n",
              "      <th>2018-06-12</th>\n",
              "      <td>1.0</td>\n",
              "      <td>-0.062912</td>\n",
              "      <td>-0.062912</td>\n",
              "    </tr>\n",
              "    <tr>\n",
              "      <th>2018-06-13</th>\n",
              "      <td>-1.0</td>\n",
              "      <td>-0.066266</td>\n",
              "      <td>0.066266</td>\n",
              "    </tr>\n",
              "    <tr>\n",
              "      <th>2018-06-14</th>\n",
              "      <td>-1.0</td>\n",
              "      <td>0.075242</td>\n",
              "      <td>-0.075242</td>\n",
              "    </tr>\n",
              "    <tr>\n",
              "      <th>2018-06-15</th>\n",
              "      <td>-1.0</td>\n",
              "      <td>-0.044269</td>\n",
              "      <td>0.044269</td>\n",
              "    </tr>\n",
              "    <tr>\n",
              "      <th>2018-06-16</th>\n",
              "      <td>-1.0</td>\n",
              "      <td>0.009320</td>\n",
              "      <td>-0.009320</td>\n",
              "    </tr>\n",
              "  </tbody>\n",
              "</table>\n",
              "</div>"
            ],
            "text/plain": [
              "            Predicted  Actual Returns  Strategy Returns\n",
              "Date                                                   \n",
              "2018-06-12        1.0       -0.062912         -0.062912\n",
              "2018-06-13       -1.0       -0.066266          0.066266\n",
              "2018-06-14       -1.0        0.075242         -0.075242\n",
              "2018-06-15       -1.0       -0.044269          0.044269\n",
              "2018-06-16       -1.0        0.009320         -0.009320"
            ]
          },
          "metadata": {},
          "output_type": "display_data"
        },
        {
          "data": {
            "text/html": [
              "<div>\n",
              "<style scoped>\n",
              "    .dataframe tbody tr th:only-of-type {\n",
              "        vertical-align: middle;\n",
              "    }\n",
              "\n",
              "    .dataframe tbody tr th {\n",
              "        vertical-align: top;\n",
              "    }\n",
              "\n",
              "    .dataframe thead th {\n",
              "        text-align: right;\n",
              "    }\n",
              "</style>\n",
              "<table border=\"1\" class=\"dataframe\">\n",
              "  <thead>\n",
              "    <tr style=\"text-align: right;\">\n",
              "      <th></th>\n",
              "      <th>Predicted</th>\n",
              "      <th>Actual Returns</th>\n",
              "      <th>Strategy Returns</th>\n",
              "    </tr>\n",
              "    <tr>\n",
              "      <th>Date</th>\n",
              "      <th></th>\n",
              "      <th></th>\n",
              "      <th></th>\n",
              "    </tr>\n",
              "  </thead>\n",
              "  <tbody>\n",
              "    <tr>\n",
              "      <th>2021-11-27</th>\n",
              "      <td>1.0</td>\n",
              "      <td>0.001538</td>\n",
              "      <td>0.001538</td>\n",
              "    </tr>\n",
              "    <tr>\n",
              "      <th>2021-11-28</th>\n",
              "      <td>1.0</td>\n",
              "      <td>0.021416</td>\n",
              "      <td>0.021416</td>\n",
              "    </tr>\n",
              "    <tr>\n",
              "      <th>2021-11-29</th>\n",
              "      <td>1.0</td>\n",
              "      <td>0.032685</td>\n",
              "      <td>0.032685</td>\n",
              "    </tr>\n",
              "    <tr>\n",
              "      <th>2021-11-30</th>\n",
              "      <td>1.0</td>\n",
              "      <td>0.010416</td>\n",
              "      <td>0.010416</td>\n",
              "    </tr>\n",
              "    <tr>\n",
              "      <th>2021-12-01</th>\n",
              "      <td>1.0</td>\n",
              "      <td>0.004599</td>\n",
              "      <td>0.004599</td>\n",
              "    </tr>\n",
              "  </tbody>\n",
              "</table>\n",
              "</div>"
            ],
            "text/plain": [
              "            Predicted  Actual Returns  Strategy Returns\n",
              "Date                                                   \n",
              "2021-11-27        1.0        0.001538          0.001538\n",
              "2021-11-28        1.0        0.021416          0.021416\n",
              "2021-11-29        1.0        0.032685          0.032685\n",
              "2021-11-30        1.0        0.010416          0.010416\n",
              "2021-12-01        1.0        0.004599          0.004599"
            ]
          },
          "metadata": {},
          "output_type": "display_data"
        }
      ],
      "source": [
        "ltc_predictions_df = pd.DataFrame(index=ltc_X_test.index)\n",
        "ltc_predictions_df['Predicted'] = ltc_pred\n",
        "ltc_predictions_df['Actual Returns'] = ltc_signals_df['Actual Returns']\n",
        "ltc_predictions_df['Strategy Returns'] = (\n",
        "    ltc_predictions_df['Actual Returns'] * ltc_predictions_df['Predicted'])\n",
        "display(ltc_predictions_df.head())\n",
        "display(ltc_predictions_df.tail())"
      ]
    },
    {
      "cell_type": "code",
      "execution_count": 157,
      "id": "uzTE_kjCmoUq",
      "metadata": {
        "colab": {
          "base_uri": "https://localhost:8080/",
          "height": 458
        },
        "id": "uzTE_kjCmoUq",
        "outputId": "a6c37523-7b55-4490-8350-cf377d3919ec"
      },
      "outputs": [
        {
          "data": {
            "text/html": [
              "<div>\n",
              "<style scoped>\n",
              "    .dataframe tbody tr th:only-of-type {\n",
              "        vertical-align: middle;\n",
              "    }\n",
              "\n",
              "    .dataframe tbody tr th {\n",
              "        vertical-align: top;\n",
              "    }\n",
              "\n",
              "    .dataframe thead th {\n",
              "        text-align: right;\n",
              "    }\n",
              "</style>\n",
              "<table border=\"1\" class=\"dataframe\">\n",
              "  <thead>\n",
              "    <tr style=\"text-align: right;\">\n",
              "      <th></th>\n",
              "      <th>Predicted</th>\n",
              "      <th>Actual Returns</th>\n",
              "      <th>Strategy Returns</th>\n",
              "    </tr>\n",
              "    <tr>\n",
              "      <th>Date</th>\n",
              "      <th></th>\n",
              "      <th></th>\n",
              "      <th></th>\n",
              "    </tr>\n",
              "  </thead>\n",
              "  <tbody>\n",
              "    <tr>\n",
              "      <th>2018-05-12</th>\n",
              "      <td>-1.0</td>\n",
              "      <td>0.073381</td>\n",
              "      <td>-0.073381</td>\n",
              "    </tr>\n",
              "    <tr>\n",
              "      <th>2018-05-13</th>\n",
              "      <td>-1.0</td>\n",
              "      <td>0.014072</td>\n",
              "      <td>-0.014072</td>\n",
              "    </tr>\n",
              "    <tr>\n",
              "      <th>2018-05-14</th>\n",
              "      <td>-1.0</td>\n",
              "      <td>-0.041142</td>\n",
              "      <td>0.041142</td>\n",
              "    </tr>\n",
              "    <tr>\n",
              "      <th>2018-05-15</th>\n",
              "      <td>-1.0</td>\n",
              "      <td>-0.061682</td>\n",
              "      <td>0.061682</td>\n",
              "    </tr>\n",
              "    <tr>\n",
              "      <th>2018-05-16</th>\n",
              "      <td>-1.0</td>\n",
              "      <td>-0.046718</td>\n",
              "      <td>0.046718</td>\n",
              "    </tr>\n",
              "  </tbody>\n",
              "</table>\n",
              "</div>"
            ],
            "text/plain": [
              "            Predicted  Actual Returns  Strategy Returns\n",
              "Date                                                   \n",
              "2018-05-12       -1.0        0.073381         -0.073381\n",
              "2018-05-13       -1.0        0.014072         -0.014072\n",
              "2018-05-14       -1.0       -0.041142          0.041142\n",
              "2018-05-15       -1.0       -0.061682          0.061682\n",
              "2018-05-16       -1.0       -0.046718          0.046718"
            ]
          },
          "metadata": {},
          "output_type": "display_data"
        },
        {
          "data": {
            "text/html": [
              "<div>\n",
              "<style scoped>\n",
              "    .dataframe tbody tr th:only-of-type {\n",
              "        vertical-align: middle;\n",
              "    }\n",
              "\n",
              "    .dataframe tbody tr th {\n",
              "        vertical-align: top;\n",
              "    }\n",
              "\n",
              "    .dataframe thead th {\n",
              "        text-align: right;\n",
              "    }\n",
              "</style>\n",
              "<table border=\"1\" class=\"dataframe\">\n",
              "  <thead>\n",
              "    <tr style=\"text-align: right;\">\n",
              "      <th></th>\n",
              "      <th>Predicted</th>\n",
              "      <th>Actual Returns</th>\n",
              "      <th>Strategy Returns</th>\n",
              "    </tr>\n",
              "    <tr>\n",
              "      <th>Date</th>\n",
              "      <th></th>\n",
              "      <th></th>\n",
              "      <th></th>\n",
              "    </tr>\n",
              "  </thead>\n",
              "  <tbody>\n",
              "    <tr>\n",
              "      <th>2021-11-27</th>\n",
              "      <td>1.0</td>\n",
              "      <td>0.013510</td>\n",
              "      <td>0.013510</td>\n",
              "    </tr>\n",
              "    <tr>\n",
              "      <th>2021-11-28</th>\n",
              "      <td>1.0</td>\n",
              "      <td>0.008872</td>\n",
              "      <td>0.008872</td>\n",
              "    </tr>\n",
              "    <tr>\n",
              "      <th>2021-11-29</th>\n",
              "      <td>1.0</td>\n",
              "      <td>0.013699</td>\n",
              "      <td>0.013699</td>\n",
              "    </tr>\n",
              "    <tr>\n",
              "      <th>2021-11-30</th>\n",
              "      <td>1.0</td>\n",
              "      <td>-0.009706</td>\n",
              "      <td>-0.009706</td>\n",
              "    </tr>\n",
              "    <tr>\n",
              "      <th>2021-12-01</th>\n",
              "      <td>1.0</td>\n",
              "      <td>0.000924</td>\n",
              "      <td>0.000924</td>\n",
              "    </tr>\n",
              "  </tbody>\n",
              "</table>\n",
              "</div>"
            ],
            "text/plain": [
              "            Predicted  Actual Returns  Strategy Returns\n",
              "Date                                                   \n",
              "2021-11-27        1.0        0.013510          0.013510\n",
              "2021-11-28        1.0        0.008872          0.008872\n",
              "2021-11-29        1.0        0.013699          0.013699\n",
              "2021-11-30        1.0       -0.009706         -0.009706\n",
              "2021-12-01        1.0        0.000924          0.000924"
            ]
          },
          "metadata": {},
          "output_type": "display_data"
        }
      ],
      "source": [
        "bch_predictions_df = pd.DataFrame(index=bch_X_test.index)\n",
        "bch_predictions_df['Predicted'] = bch_pred\n",
        "bch_predictions_df['Actual Returns'] = bch_signals_df['Actual Returns']\n",
        "bch_predictions_df['Strategy Returns'] = (\n",
        "    bch_predictions_df['Actual Returns'] * bch_predictions_df['Predicted'])\n",
        "display(bch_predictions_df.head())\n",
        "display(bch_predictions_df.tail())"
      ]
    },
    {
      "cell_type": "code",
      "execution_count": 54,
      "id": "aY4FF0V8oBnh",
      "metadata": {
        "colab": {
          "base_uri": "https://localhost:8080/",
          "height": 310
        },
        "id": "aY4FF0V8oBnh",
        "outputId": "8d40692a-df89-4e62-d236-4b08b7057e32"
      },
      "outputs": [
        {
          "data": {
            "text/plain": [
              "<matplotlib.axes._subplots.AxesSubplot at 0x7fd785beb610>"
            ]
          },
          "execution_count": 54,
          "metadata": {},
          "output_type": "execute_result"
        },
        {
          "data": {
            "image/png": "[encoded data removed]",
            "text/plain": [
              "<Figure size 432x288 with 1 Axes>"
            ]
          },
          "metadata": {
            "needs_background": "light"
          },
          "output_type": "display_data"
        }
      ],
      "source": [
        "# Plot the actual vs strategy returns\n",
        "btc_plot=(1+ btc_predictions_df[['Actual Returns', 'Strategy Returns']]).cumprod().plot(\n",
        "title='Actual Returns vs Strategy Returns - Bitcoin')\n",
        "\n",
        "btc_plot"
      ]
    },
    {
      "cell_type": "code",
      "execution_count": 96,
      "id": "4MXlzaDzoBvh",
      "metadata": {
        "colab": {
          "base_uri": "https://localhost:8080/",
          "height": 310
        },
        "id": "4MXlzaDzoBvh",
        "outputId": "75cd6392-aa75-4ad7-ea57-de5f03a8a32f"
      },
      "outputs": [
        {
          "data": {
            "text/plain": [
              "<matplotlib.axes._subplots.AxesSubplot at 0x7fd7853d68d0>"
            ]
          },
          "execution_count": 96,
          "metadata": {},
          "output_type": "execute_result"
        },
        {
          "data": {
            "image/png": "[encoded data removed]",
            "text/plain": [
              "<Figure size 432x288 with 1 Axes>"
            ]
          },
          "metadata": {
            "needs_background": "light"
          },
          "output_type": "display_data"
        }
      ],
      "source": [
        "eth_plot=(1+ eth_predictions_df[['Actual Returns', 'Strategy Returns']]).cumprod().plot(\n",
        "title='Actual Returns vs Strategy Returns - Ethereum')\n",
        "\n",
        "eth_plot"
      ]
    },
    {
      "cell_type": "code",
      "execution_count": 134,
      "id": "L7eukLV-oB35",
      "metadata": {
        "colab": {
          "base_uri": "https://localhost:8080/",
          "height": 310
        },
        "id": "L7eukLV-oB35",
        "outputId": "a98b29fa-df82-44b0-dae6-6d5550e85b6b"
      },
      "outputs": [
        {
          "data": {
            "text/plain": [
              "<matplotlib.axes._subplots.AxesSubplot at 0x7fd785605690>"
            ]
          },
          "execution_count": 134,
          "metadata": {},
          "output_type": "execute_result"
        },
        {
          "data": {
            "image/png": "[encoded data removed]",
            "text/plain": [
              "<Figure size 432x288 with 1 Axes>"
            ]
          },
          "metadata": {
            "needs_background": "light"
          },
          "output_type": "display_data"
        }
      ],
      "source": [
        "ltc_plot=(1+ ltc_predictions_df[['Actual Returns', 'Strategy Returns']]).cumprod().plot(\n",
        "title='Actual Returns vs Strategy Returns - Litecoin')\n",
        "\n",
        "ltc_plot"
      ]
    },
    {
      "cell_type": "code",
      "execution_count": 158,
      "id": "0G2FElOEoCAN",
      "metadata": {
        "colab": {
          "base_uri": "https://localhost:8080/",
          "height": 310
        },
        "id": "0G2FElOEoCAN",
        "outputId": "ea6acb2e-c4dc-49cd-93b8-5cf78c8926ba"
      },
      "outputs": [
        {
          "data": {
            "text/plain": [
              "<matplotlib.axes._subplots.AxesSubplot at 0x7fd7808c57d0>"
            ]
          },
          "execution_count": 158,
          "metadata": {},
          "output_type": "execute_result"
        },
        {
          "data": {
            "image/png": "[encoded data removed]",
            "text/plain": [
              "<Figure size 432x288 with 1 Axes>"
            ]
          },
          "metadata": {
            "needs_background": "light"
          },
          "output_type": "display_data"
        }
      ],
      "source": [
        "bch_plot=(1+ bch_predictions_df[['Actual Returns', 'Strategy Returns']]).cumprod().plot(\n",
        "title='Actual Returns vs Strategy Returns - BitcoinCash')\n",
        "\n",
        "bch_plot"
      ]
    }
  ],
  "metadata": {
    "colab": {
      "collapsed_sections": [],
      "name": "Dumblebucha.ipynb",
      "provenance": []
    },
    "kernelspec": {
      "display_name": "Python (dev)",
      "language": "python",
      "name": "dev"
    },
    "language_info": {
      "codemirror_mode": {
        "name": "ipython",
        "version": 3
      },
      "file_extension": ".py",
      "mimetype": "text/x-python",
      "name": "python",
      "nbconvert_exporter": "python",
      "pygments_lexer": "ipython3",
      "version": "3.7.7"
    }
  },
  "nbformat": 4,
  "nbformat_minor": 5
}
