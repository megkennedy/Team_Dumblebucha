{
  "cells": [
    {
      "cell_type": "code",
      "execution_count": null,
      "id": "fddb1975-a2b0-4205-8220-e7047e0de65b",
      "metadata": {
        "id": "fddb1975-a2b0-4205-8220-e7047e0de65b"
      },
      "outputs": [],
      "source": [
        "# Imports\n",
        "import pandas as pd\n",
        "import numpy as np\n",
        "from pathlib import Path\n",
        "#import hvplot.pandas\n",
        "import matplotlib.pyplot as plt\n",
        "from sklearn import svm\n",
        "from sklearn.preprocessing import StandardScaler\n",
        "from pandas.tseries.offsets import DateOffset\n",
        "from sklearn.metrics import classification_report\n",
        "import os\n",
        "#from dotenv import load_dotenv\n",
        "import requests\n",
        "import json"
      ]
    },
    {
      "cell_type": "code",
      "execution_count": null,
      "id": "j90Fy1OPYF56",
      "metadata": {
        "id": "j90Fy1OPYF56"
      },
      "outputs": [],
      "source": [
        "from google.colab import drive\n",
        "drive.mount(\"/content/drive\")\n",
        "path=\"/content/drive/MyDrive/Crypto_HistoricalData_2017-2021/BTC-USD (Pickthisone).csv\"\n",
        "Bitcoin_df = pd.read_csv(path, index_col= \"Date\", parse_dates= True, infer_datetime_format= True)\n",
        "Bitcoin_df"
      ]
    },
    {
      "cell_type": "code",
      "execution_count": null,
      "id": "Ug4CebWVadXU",
      "metadata": {
        "id": "Ug4CebWVadXU"
      },
      "outputs": [],
      "source": [
        "path=\"/content/drive/MyDrive/Crypto_HistoricalData_2017-2021/BCH-USD.csv\"\n",
        "BitcoinCash_df = pd.read_csv(path, index_col= \"Date\", parse_dates= True, infer_datetime_format= True )\n",
        "BitcoinCash_df"
      ]
    },
    {
      "cell_type": "code",
      "execution_count": null,
      "id": "OeB-Hx3QavBe",
      "metadata": {
        "id": "OeB-Hx3QavBe"
      },
      "outputs": [],
      "source": [
        "path=\"/content/drive/MyDrive/Crypto_HistoricalData_2017-2021/ETH-USD (This One).csv\"\n",
        "Ethereum_df = pd.read_csv(path, index_col= \"Date\", parse_dates= True, infer_datetime_format= True)\n",
        "Ethereum_df"
      ]
    },
    {
      "cell_type": "code",
      "execution_count": null,
      "id": "ECfZZO5wa2HK",
      "metadata": {
        "id": "ECfZZO5wa2HK"
      },
      "outputs": [],
      "source": [
        "path=\"/content/drive/MyDrive/Crypto_HistoricalData_2017-2021/LTC-USD.csv\"\n",
        "LiteCoin_df = pd.read_csv(path, index_col= \"Date\", parse_dates= True, infer_datetime_format= True)\n",
        "LiteCoin_df"
      ]
    },
    {
      "cell_type": "code",
      "execution_count": null,
      "id": "c20f71a0-941d-44d4-8194-bc3cc49fb14a",
      "metadata": {
        "id": "c20f71a0-941d-44d4-8194-bc3cc49fb14a"
      },
      "outputs": [],
      "source": [
        "# separate into individual dataframes\n",
        "\n",
        "btc_signals_df=Bitcoin_df.loc[:, [\"Close\"]]\n",
        "eth_signals_df=Ethereum_df.loc[:, [\"Close\"]]\n",
        "ltc_signals_df=LiteCoin_df.loc[:, [\"Close\"]]\n",
        "bch_signals_df=BitcoinCash_df.loc[:,[\"Close\"]]\n",
        "\n",
        "display(btc_signals_df.head())\n",
        "display(eth_signals_df.head())\n",
        "display(ltc_signals_df.head())\n",
        "display(bch_signals_df.head())"
      ]
    },
    {
      "cell_type": "code",
      "execution_count": null,
      "id": "ac76de3d-1612-441b-ab0a-a7ce2ed5ee76",
      "metadata": {
        "id": "ac76de3d-1612-441b-ab0a-a7ce2ed5ee76"
      },
      "outputs": [],
      "source": [
        "# use pct_change function to get actual returns and dropna\n",
        "\n",
        "btc_signals_df[\"Actual Returns\"]=btc_signals_df[\"Close\"].pct_change()\n",
        "eth_signals_df[\"Actual Returns\"]=eth_signals_df[\"Close\"].pct_change()\n",
        "ltc_signals_df[\"Actual Returns\"]=ltc_signals_df[\"Close\"].pct_change()\n",
        "bch_signals_df[\"Actual Returns\"]=bch_signals_df[\"Close\"].pct_change()\n",
        "\n",
        "btc_signals_df=btc_signals_df.dropna()\n",
        "eth_signals_df=eth_signals_df.dropna()\n",
        "ltc_signals_df=ltc_signals_df.dropna()\n",
        "bch_signals_df=bch_signals_df.dropna()\n",
        "\n",
        "display(btc_signals_df.head())\n",
        "display(eth_signals_df.head())\n",
        "display(ltc_signals_df.head())\n",
        "display(bch_signals_df.head())"
      ]
    },
    {
      "cell_type": "code",
      "execution_count": null,
      "id": "9b12680d-89aa-4f04-90f2-cefde3a1d8f4",
      "metadata": {
        "id": "9b12680d-89aa-4f04-90f2-cefde3a1d8f4"
      },
      "outputs": [],
      "source": [
        "# Set the short window and long window\n",
        "short_window = 4\n",
        "long_window = 100\n",
        "\n",
        "# Generate the fast and slow simple moving averages \n",
        "\n",
        "btc_signals_df['SMA_Fast']=btc_signals_df['Close'].rolling(window=short_window).mean()\n",
        "btc_signals_df['SMA_Slow']=btc_signals_df['Close'].rolling(window=long_window).mean()"
      ]
    },
    {
      "cell_type": "code",
      "execution_count": null,
      "id": "9939597c-f7da-4b87-8b1e-70ec0c24f93f",
      "metadata": {
        "id": "9939597c-f7da-4b87-8b1e-70ec0c24f93f"
      },
      "outputs": [],
      "source": [
        "short_window = 4\n",
        "long_window = 100\n",
        "\n",
        "eth_signals_df['SMA_Fast']=eth_signals_df['Close'].rolling(window=short_window).mean()\n",
        "eth_signals_df['SMA_Slow']=eth_signals_df['Close'].rolling(window=long_window).mean()"
      ]
    },
    {
      "cell_type": "code",
      "execution_count": null,
      "id": "ba9d0cae-7a3d-43d5-a5e0-a319e5743ef0",
      "metadata": {
        "id": "ba9d0cae-7a3d-43d5-a5e0-a319e5743ef0"
      },
      "outputs": [],
      "source": [
        "short_window = 4\n",
        "long_window = 100\n",
        "\n",
        "ltc_signals_df['SMA_Fast']=ltc_signals_df['Close'].rolling(window=short_window).mean()\n",
        "ltc_signals_df['SMA_Slow']=ltc_signals_df['Close'].rolling(window=long_window).mean()"
      ]
    },
    {
      "cell_type": "code",
      "execution_count": null,
      "id": "877ddebc-1be8-4729-bff6-28d81347e839",
      "metadata": {
        "id": "877ddebc-1be8-4729-bff6-28d81347e839"
      },
      "outputs": [],
      "source": [
        "short_window = 4\n",
        "long_window = 100\n",
        "\n",
        "bch_signals_df['SMA_Fast']=bch_signals_df['Close'].rolling(window=short_window).mean()\n",
        "bch_signals_df['SMA_Slow']=bch_signals_df['Close'].rolling(window=long_window).mean()"
      ]
    },
    {
      "cell_type": "code",
      "execution_count": null,
      "id": "784db76c-1b83-4159-b11e-0e76b667f056",
      "metadata": {
        "id": "784db76c-1b83-4159-b11e-0e76b667f056"
      },
      "outputs": [],
      "source": [
        "#check your work\n",
        "display(btc_signals_df.head())\n",
        "display(eth_signals_df.head())\n",
        "display(ltc_signals_df.head())\n",
        "display(bch_signals_df.head())"
      ]
    },
    {
      "cell_type": "code",
      "execution_count": null,
      "id": "bc9ac0e3-7765-46e0-a713-8120885b14ac",
      "metadata": {
        "id": "bc9ac0e3-7765-46e0-a713-8120885b14ac"
      },
      "outputs": [],
      "source": [
        "# add the  Signal column\n",
        "btc_signals_df['Signal']=0.0\n",
        "\n",
        "# When Actual Returns are greater than or equal to 0, generate signal to buy stock \n",
        "\n",
        "btc_signals_df.loc[(btc_signals_df['Actual Returns'] >= 0), 'Signal'] = 1\n",
        "\n",
        "# When Actual Returns are less than 0, generate signal to sell stock\n",
        "\n",
        "btc_signals_df.loc[(btc_signals_df['Actual Returns'] < 0), 'Signal'] = -1"
      ]
    },
    {
      "cell_type": "code",
      "execution_count": null,
      "id": "6c7f4a1e-d830-4fcb-a370-999e2205ebea",
      "metadata": {
        "id": "6c7f4a1e-d830-4fcb-a370-999e2205ebea"
      },
      "outputs": [],
      "source": [
        "eth_signals_df['Signal']=0.0\n",
        "eth_signals_df.loc[(eth_signals_df['Actual Returns'] >= 0), 'Signal'] = 1\n",
        "eth_signals_df.loc[(eth_signals_df['Actual Returns'] < 0), 'Signal'] = -1"
      ]
    },
    {
      "cell_type": "code",
      "execution_count": null,
      "id": "f041bb15-6307-43f3-abb2-e07d8df8f50c",
      "metadata": {
        "id": "f041bb15-6307-43f3-abb2-e07d8df8f50c"
      },
      "outputs": [],
      "source": [
        "ltc_signals_df['Signal']=0.0\n",
        "ltc_signals_df.loc[(ltc_signals_df['Actual Returns'] >= 0), 'Signal'] = 1\n",
        "ltc_signals_df.loc[(ltc_signals_df['Actual Returns'] < 0), 'Signal'] = -1"
      ]
    },
    {
      "cell_type": "code",
      "execution_count": null,
      "id": "b3835eb1-6bad-4b6b-a357-b87364ee54b2",
      "metadata": {
        "id": "b3835eb1-6bad-4b6b-a357-b87364ee54b2"
      },
      "outputs": [],
      "source": [
        "bch_signals_df['Signal']=0.0\n",
        "bch_signals_df.loc[(bch_signals_df['Actual Returns'] >= 0), 'Signal'] = 1\n",
        "bch_signals_df.loc[(bch_signals_df['Actual Returns'] < 0), 'Signal'] = -1"
      ]
    },
    {
      "cell_type": "code",
      "execution_count": null,
      "id": "ccdabb50-13df-4a63-9cd5-1630a1dc17c3",
      "metadata": {
        "id": "ccdabb50-13df-4a63-9cd5-1630a1dc17c3"
      },
      "outputs": [],
      "source": [
        "# check your work\n",
        "display(btc_signals_df.head())\n",
        "display(eth_signals_df.head())\n",
        "display(ltc_signals_df.head())\n",
        "display(bch_signals_df.head())\n",
        "\n",
        "display(btc_signals_df.tail())\n",
        "display(eth_signals_df.tail())\n",
        "display(ltc_signals_df.tail())\n",
        "display(bch_signals_df.tail())"
      ]
    },
    {
      "cell_type": "code",
      "execution_count": null,
      "id": "81cfc87c-efca-4fed-ae00-16676e232458",
      "metadata": {
        "id": "81cfc87c-efca-4fed-ae00-16676e232458"
      },
      "outputs": [],
      "source": [
        "# Add Strategy Returns column\n",
        "btc_signals_df['Strategy Returns'] = btc_signals_df['Actual Returns'] * btc_signals_df['Signal'].shift()"
      ]
    },
    {
      "cell_type": "code",
      "execution_count": null,
      "id": "1a888af0-4122-4930-9714-e0e8519793a3",
      "metadata": {
        "id": "1a888af0-4122-4930-9714-e0e8519793a3"
      },
      "outputs": [],
      "source": [
        "eth_signals_df['Strategy Returns'] = eth_signals_df['Actual Returns'] * eth_signals_df['Signal'].shift()"
      ]
    },
    {
      "cell_type": "code",
      "execution_count": null,
      "id": "c68ef73c-e8c1-45f6-8a12-47b4504769e8",
      "metadata": {
        "id": "c68ef73c-e8c1-45f6-8a12-47b4504769e8"
      },
      "outputs": [],
      "source": [
        "ltc_signals_df['Strategy Returns'] = ltc_signals_df['Actual Returns'] * ltc_signals_df['Signal'].shift()"
      ]
    },
    {
      "cell_type": "code",
      "execution_count": null,
      "id": "6230e74b-33dc-4d26-b8da-f2953ec46723",
      "metadata": {
        "id": "6230e74b-33dc-4d26-b8da-f2953ec46723"
      },
      "outputs": [],
      "source": [
        "bch_signals_df['Strategy Returns'] = bch_signals_df['Actual Returns'] * bch_signals_df['Signal'].shift()"
      ]
    },
    {
      "cell_type": "code",
      "execution_count": null,
      "id": "6556c8a5-14b1-4123-bd98-dd57d30d8993",
      "metadata": {
        "id": "6556c8a5-14b1-4123-bd98-dd57d30d8993"
      },
      "outputs": [],
      "source": [
        "# check your work\n",
        "display(btc_signals_df.head())\n",
        "display(eth_signals_df.head())\n",
        "display(ltc_signals_df.head())\n",
        "display(bch_signals_df.head())\n",
        "\n",
        "display(btc_signals_df.tail())\n",
        "display(eth_signals_df.tail())\n",
        "display(ltc_signals_df.tail())\n",
        "display(bch_signals_df.tail())"
      ]
    },
    {
      "cell_type": "code",
      "execution_count": null,
      "id": "5e40ba3d-6739-492b-89b2-aecfef260994",
      "metadata": {
        "id": "5e40ba3d-6739-492b-89b2-aecfef260994"
      },
      "outputs": [],
      "source": [
        "# create X and y variables\n",
        "btc_X = btc_signals_df[['SMA_Fast', 'SMA_Slow']].shift().dropna()\n",
        "btc_y = btc_signals_df['Signal']"
      ]
    },
    {
      "cell_type": "code",
      "execution_count": null,
      "id": "9d4b3175-df54-4674-ab21-ff6d033ce869",
      "metadata": {
        "id": "9d4b3175-df54-4674-ab21-ff6d033ce869"
      },
      "outputs": [],
      "source": [
        "eth_X = eth_signals_df[['SMA_Fast', 'SMA_Slow']].shift().dropna()\n",
        "eth_y = eth_signals_df['Signal']"
      ]
    },
    {
      "cell_type": "code",
      "execution_count": null,
      "id": "c582f9ed-5492-4bab-afa0-cb2470d53136",
      "metadata": {
        "id": "c582f9ed-5492-4bab-afa0-cb2470d53136"
      },
      "outputs": [],
      "source": [
        "ltc_X = ltc_signals_df[['SMA_Fast', 'SMA_Slow']].shift().dropna()\n",
        "ltc_y = ltc_signals_df['Signal']"
      ]
    },
    {
      "cell_type": "code",
      "execution_count": null,
      "id": "3cb0107c-0cc3-491b-9446-16a9519426ec",
      "metadata": {
        "id": "3cb0107c-0cc3-491b-9446-16a9519426ec"
      },
      "outputs": [],
      "source": [
        "bch_X = bch_signals_df[['SMA_Fast', 'SMA_Slow']].shift().dropna()\n",
        "bch_y = bch_signals_df['Signal']"
      ]
    },
    {
      "cell_type": "code",
      "execution_count": null,
      "id": "077d963b-00f7-4428-b9d7-2d41428da23c",
      "metadata": {
        "id": "077d963b-00f7-4428-b9d7-2d41428da23c"
      },
      "outputs": [],
      "source": [
        "# set training start and end times\n",
        "btc_training_begin = btc_X.index.min()\n",
        "btc_training_end = btc_X.index.min() + DateOffset(months=4)"
      ]
    },
    {
      "cell_type": "code",
      "execution_count": null,
      "id": "f17d39b2-2209-4cc0-9a5c-12b0738239da",
      "metadata": {
        "id": "f17d39b2-2209-4cc0-9a5c-12b0738239da"
      },
      "outputs": [],
      "source": [
        "eth_training_begin = eth_X.index.min()\n",
        "eth_training_end = eth_X.index.min() + DateOffset(months=4)"
      ]
    },
    {
      "cell_type": "code",
      "execution_count": null,
      "id": "0faba442-e524-4eeb-80b9-8f41107d1ed5",
      "metadata": {
        "id": "0faba442-e524-4eeb-80b9-8f41107d1ed5"
      },
      "outputs": [],
      "source": [
        "ltc_training_begin = ltc_X.index.min()\n",
        "ltc_training_end = ltc_X.index.min() + DateOffset(months=4)"
      ]
    },
    {
      "cell_type": "code",
      "execution_count": null,
      "id": "a1564072-5eda-4878-9561-3b3d227349c0",
      "metadata": {
        "id": "a1564072-5eda-4878-9561-3b3d227349c0"
      },
      "outputs": [],
      "source": [
        "bch_training_begin = bch_X.index.min()\n",
        "bch_training_end = bch_X.index.min() + DateOffset(months=4)"
      ]
    },
    {
      "cell_type": "code",
      "execution_count": null,
      "id": "4d3638a1-1eeb-4b63-8180-addaebb265ee",
      "metadata": {
        "id": "4d3638a1-1eeb-4b63-8180-addaebb265ee"
      },
      "outputs": [],
      "source": [
        "# create train and test variables\n",
        "btc_X_train = btc_X.loc[btc_training_begin:btc_training_end]\n",
        "btc_y_train = btc_y.loc[btc_training_begin:btc_training_end]\n",
        "\n",
        "btc_X_test = btc_X.loc[btc_training_end+DateOffset(hours=1):]\n",
        "btc_y_test = btc_y.loc[btc_training_end+DateOffset(hours=1):]"
      ]
    },
    {
      "cell_type": "code",
      "execution_count": null,
      "id": "b26130ea-9e4c-4d69-8b12-10233202f98d",
      "metadata": {
        "id": "b26130ea-9e4c-4d69-8b12-10233202f98d"
      },
      "outputs": [],
      "source": [
        "eth_X_train = eth_X.loc[eth_training_begin:eth_training_end]\n",
        "eth_y_train = eth_y.loc[eth_training_begin:eth_training_end]\n",
        "\n",
        "eth_X_test = eth_X.loc[eth_training_end+DateOffset(hours=1):]\n",
        "eth_y_test = eth_y.loc[eth_training_end+DateOffset(hours=1):]"
      ]
    },
    {
      "cell_type": "code",
      "execution_count": null,
      "id": "06818530-28cd-4368-8a1e-67aa26bd7ad7",
      "metadata": {
        "id": "06818530-28cd-4368-8a1e-67aa26bd7ad7"
      },
      "outputs": [],
      "source": [
        "ltc_X_train = ltc_X.loc[ltc_training_begin:ltc_training_end]\n",
        "ltc_y_train = ltc_y.loc[ltc_training_begin:ltc_training_end]\n",
        "\n",
        "ltc_X_test = ltc_X.loc[ltc_training_end+DateOffset(hours=1):]\n",
        "ltc_y_test = ltc_y.loc[ltc_training_end+DateOffset(hours=1):]"
      ]
    },
    {
      "cell_type": "code",
      "execution_count": null,
      "id": "35064583-d975-4c3d-95fd-65c2904de8a9",
      "metadata": {
        "id": "35064583-d975-4c3d-95fd-65c2904de8a9"
      },
      "outputs": [],
      "source": [
        "bch_X_train = bch_X.loc[bch_training_begin:bch_training_end]\n",
        "bch_y_train = bch_y.loc[bch_training_begin:bch_training_end]\n",
        "\n",
        "bch_X_test = bch_X.loc[bch_training_end+DateOffset(hours=1):]\n",
        "bch_y_test = bch_y.loc[bch_training_end+DateOffset(hours=1):]"
      ]
    },
    {
      "cell_type": "code",
      "execution_count": null,
      "id": "89694ad6-f216-4a15-bf1a-ea4a3c73ecd8",
      "metadata": {
        "id": "89694ad6-f216-4a15-bf1a-ea4a3c73ecd8"
      },
      "outputs": [],
      "source": [
        "# scale the features\n",
        "btc_scaler = StandardScaler()\n",
        "btc_X_scaler = btc_scaler.fit(btc_X_train)\n",
        "btc_X_train_scaled = btc_X_scaler.transform(btc_X_train)\n",
        "btc_X_test_scaled = btc_X_scaler.transform(btc_X_test)"
      ]
    },
    {
      "cell_type": "code",
      "execution_count": null,
      "id": "073463aa-47f2-4e2e-a03b-d69ef6e7875b",
      "metadata": {
        "id": "073463aa-47f2-4e2e-a03b-d69ef6e7875b"
      },
      "outputs": [],
      "source": [
        "eth_scaler = StandardScaler()\n",
        "eth_X_scaler = eth_scaler.fit(eth_X_train)\n",
        "eth_X_train_scaled = eth_X_scaler.transform(eth_X_train)\n",
        "eth_X_test_scaled = eth_X_scaler.transform(eth_X_test)"
      ]
    },
    {
      "cell_type": "code",
      "execution_count": null,
      "id": "cc1f1cd5-142e-4110-a580-a9a5eccd3704",
      "metadata": {
        "id": "cc1f1cd5-142e-4110-a580-a9a5eccd3704"
      },
      "outputs": [],
      "source": [
        "ltc_scaler = StandardScaler()\n",
        "ltc_X_scaler = ltc_scaler.fit(ltc_X_train)\n",
        "ltc_X_train_scaled = ltc_X_scaler.transform(ltc_X_train)\n",
        "ltc_X_test_scaled = ltc_X_scaler.transform(ltc_X_test)"
      ]
    },
    {
      "cell_type": "code",
      "execution_count": null,
      "id": "42cbddaa-cb62-4e5a-8ee6-86ed3607d5ca",
      "metadata": {
        "id": "42cbddaa-cb62-4e5a-8ee6-86ed3607d5ca"
      },
      "outputs": [],
      "source": [
        "bch_scaler = StandardScaler()\n",
        "bch_X_scaler = bch_scaler.fit(bch_X_train)\n",
        "bch_X_train_scaled = bch_X_scaler.transform(bch_X_train)\n",
        "bch_X_test_scaled = bch_X_scaler.transform(bch_X_test)"
      ]
    },
    {
      "cell_type": "code",
      "execution_count": null,
      "id": "12f3b1e8-b4db-47dc-8fb5-4204fa863d12",
      "metadata": {
        "id": "12f3b1e8-b4db-47dc-8fb5-4204fa863d12"
      },
      "outputs": [],
      "source": [
        "# use SKLearn SVC classifier to fit and predict\n",
        "btc_model = svm.SVC()\n",
        "btc_model = btc_model.fit(btc_X_train_scaled, btc_y_train)\n",
        "btc_pred = btc_model.predict(btc_X_test_scaled)\n",
        "btc_pred"
      ]
    },
    {
      "cell_type": "code",
      "execution_count": null,
      "id": "RRjIa92uPHTh",
      "metadata": {
        "id": "RRjIa92uPHTh"
      },
      "outputs": [],
      "source": [
        "eth_model = svm.SVC()\n",
        "eth_model = eth_model.fit(eth_X_train_scaled, eth_y_train)\n",
        "eth_pred = eth_model.predict(eth_X_test_scaled)\n",
        "eth_pred"
      ]
    },
    {
      "cell_type": "code",
      "execution_count": null,
      "id": "omF56u1iPHc2",
      "metadata": {
        "id": "omF56u1iPHc2"
      },
      "outputs": [],
      "source": [
        "ltc_model = svm.SVC()\n",
        "ltc_model = ltc_model.fit(ltc_X_train_scaled, ltc_y_train)\n",
        "ltc_pred = ltc_model.predict(ltc_X_test_scaled)\n",
        "ltc_pred"
      ]
    },
    {
      "cell_type": "code",
      "execution_count": null,
      "id": "6jYpxTlSPHrs",
      "metadata": {
        "id": "6jYpxTlSPHrs"
      },
      "outputs": [],
      "source": [
        "bch_model = svm.SVC()\n",
        "bch_model = bch_model.fit(bch_X_train_scaled, bch_y_train)\n",
        "bch_pred = bch_model.predict(bch_X_test_scaled)\n",
        "bch_pred"
      ]
    },
    {
      "cell_type": "code",
      "execution_count": null,
      "id": "r6oEuPA2l27c",
      "metadata": {
        "id": "r6oEuPA2l27c"
      },
      "outputs": [],
      "source": [
        "# review the classification report\n",
        "btc_testing_report = classification_report(btc_y_test, btc_pred)\n",
        "print(btc_testing_report)"
      ]
    },
    {
      "cell_type": "code",
      "execution_count": null,
      "id": "RllctAixl3Go",
      "metadata": {
        "id": "RllctAixl3Go"
      },
      "outputs": [],
      "source": [
        "eth_testing_report = classification_report(eth_y_test, eth_pred)\n",
        "print(eth_testing_report)"
      ]
    },
    {
      "cell_type": "code",
      "execution_count": null,
      "id": "yhhSpQMpl3QP",
      "metadata": {
        "id": "yhhSpQMpl3QP"
      },
      "outputs": [],
      "source": [
        "ltc_testing_report = classification_report(ltc_y_test, ltc_pred)\n",
        "print(ltc_testing_report)"
      ]
    },
    {
      "cell_type": "code",
      "execution_count": null,
      "id": "PevSQGLUl3Z4",
      "metadata": {
        "id": "PevSQGLUl3Z4"
      },
      "outputs": [],
      "source": [
        "bch_testing_report = classification_report(bch_y_test, bch_pred)"
      ]
    },
    {
      "cell_type": "code",
      "execution_count": null,
      "id": "v5BCdHQfmn8c",
      "metadata": {
        "id": "v5BCdHQfmn8c"
      },
      "outputs": [],
      "source": [
        "# Create a new data frame to compare Actual Returns and Strategy Returns\n",
        "btc_predictions_df = pd.DataFrame(index=btc_X_test.index)\n",
        "btc_predictions_df['Predicted'] = btc_pred\n",
        "btc_predictions_df['Actual Returns'] = btc_signals_df['Actual Returns']\n",
        "btc_predictions_df['Strategy Returns'] = (\n",
        "    btc_predictions_df['Actual Returns'] * btc_predictions_df['Predicted'])\n",
        "display(btc_predictions_df.head())\n",
        "display(btc_predictions_df.tail())"
      ]
    },
    {
      "cell_type": "code",
      "execution_count": null,
      "id": "BY8RHOpPmoEw",
      "metadata": {
        "id": "BY8RHOpPmoEw"
      },
      "outputs": [],
      "source": [
        "eth_predictions_df = pd.DataFrame(index=eth_X_test.index)\n",
        "eth_predictions_df['Predicted'] = eth_pred\n",
        "eth_predictions_df['Actual Returns'] = eth_signals_df['Actual Returns']\n",
        "eth_predictions_df['Strategy Returns'] = (\n",
        "    eth_predictions_df['Actual Returns'] * eth_predictions_df['Predicted'])\n",
        "display(eth_predictions_df.head())\n",
        "display(eth_predictions_df.tail())"
      ]
    },
    {
      "cell_type": "code",
      "execution_count": null,
      "id": "C8lXDl7GmoMR",
      "metadata": {
        "id": "C8lXDl7GmoMR"
      },
      "outputs": [],
      "source": [
        "ltc_predictions_df = pd.DataFrame(index=ltc_X_test.index)\n",
        "ltc_predictions_df['Predicted'] = ltc_pred\n",
        "ltc_predictions_df['Actual Returns'] = ltc_signals_df['Actual Returns']\n",
        "ltc_predictions_df['Strategy Returns'] = (\n",
        "    ltc_predictions_df['Actual Returns'] * ltc_predictions_df['Predicted'])\n",
        "display(ltc_predictions_df.head())\n",
        "display(ltc_predictions_df.tail())"
      ]
    },
    {
      "cell_type": "code",
      "execution_count": null,
      "id": "uzTE_kjCmoUq",
      "metadata": {
        "id": "uzTE_kjCmoUq"
      },
      "outputs": [],
      "source": [
        "bch_predictions_df = pd.DataFrame(index=bch_X_test.index)\n",
        "bch_predictions_df['Predicted'] = bch_pred\n",
        "bch_predictions_df['Actual Returns'] = bch_signals_df['Actual Returns']\n",
        "bch_predictions_df['Strategy Returns'] = (\n",
        "    bch_predictions_df['Actual Returns'] * bch_predictions_df['Predicted'])\n",
        "display(bch_predictions_df.head())\n",
        "display(bch_predictions_df.tail())"
      ]
    },
    {
      "cell_type": "code",
      "execution_count": null,
      "id": "aY4FF0V8oBnh",
      "metadata": {
        "id": "aY4FF0V8oBnh"
      },
      "outputs": [],
      "source": [
        "# Plot the actual vs strategy returns\n",
        "btc_plot=(1+ btc_predictions_df[['Actual Returns', 'Strategy Returns']]).cumprod().plot(\n",
        "title='Actual Returns vs Strategy Returns - Bitcoin')\n",
        "\n",
        "btc_plot"
      ]
    },
    {
      "cell_type": "code",
      "execution_count": null,
      "id": "4MXlzaDzoBvh",
      "metadata": {
        "id": "4MXlzaDzoBvh"
      },
      "outputs": [],
      "source": [
        "eth_plot=(1+ eth_predictions_df[['Actual Returns', 'Strategy Returns']]).cumprod().plot(\n",
        "title='Actual Returns vs Strategy Returns - Ethereum')\n",
        "\n",
        "eth_plot"
      ]
    },
    {
      "cell_type": "code",
      "execution_count": null,
      "id": "L7eukLV-oB35",
      "metadata": {
        "id": "L7eukLV-oB35"
      },
      "outputs": [],
      "source": [
        "ltc_plot=(1+ ltc_predictions_df[['Actual Returns', 'Strategy Returns']]).cumprod().plot(\n",
        "title='Actual Returns vs Strategy Returns - Litecoin')\n",
        "\n",
        "ltc_plot"
      ]
    },
    {
      "cell_type": "code",
      "execution_count": null,
      "id": "0G2FElOEoCAN",
      "metadata": {
        "id": "0G2FElOEoCAN"
      },
      "outputs": [],
      "source": [
        "bch_plot=(1+ bch_predictions_df[['Actual Returns', 'Strategy Returns']]).cumprod().plot(\n",
        "title='Actual Returns vs Strategy Returns - BitcoinCash')\n",
        "\n",
        "bch_plot"
      ]
    }
  ],
  "metadata": {
    "colab": {
      "collapsed_sections": [],
      "name": "Dumblebucha.ipynb",
      "provenance": []
    },
    "kernelspec": {
      "display_name": "Python (dev)",
      "language": "python",
      "name": "dev"
    },
    "language_info": {
      "codemirror_mode": {
        "name": "ipython",
        "version": 3
      },
      "file_extension": ".py",
      "mimetype": "text/x-python",
      "name": "python",
      "nbconvert_exporter": "python",
      "pygments_lexer": "ipython3",
      "version": "3.7.7"
    }
  },
  "nbformat": 4,
  "nbformat_minor": 5
}
